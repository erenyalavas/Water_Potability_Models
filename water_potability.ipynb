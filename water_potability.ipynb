{
 "cells": [
  {
   "cell_type": "code",
   "execution_count": 59,
   "id": "48a69d0a",
   "metadata": {},
   "outputs": [],
   "source": [
    "import pandas as pd\n",
    "import numpy as np\n",
    "import matplotlib.pyplot as plt\n",
    "import seaborn as sns\n",
    "from sklearn.linear_model import LogisticRegression\n",
    "from sklearn.neighbors import KNeighborsClassifier\n",
    "from sklearn.ensemble import RandomForestClassifier\n",
    "from sklearn.ensemble import GradientBoostingClassifier\n",
    "from sklearn.pipeline import Pipeline\n",
    "from sklearn.model_selection import StratifiedKFold\n",
    "from sklearn.model_selection import train_test_split, cross_val_score\n",
    "from sklearn.model_selection import GridSearchCV\n",
    "from sklearn.metrics import confusion_matrix\n",
    "from sklearn.metrics import accuracy_score\n",
    "from sklearn.preprocessing import StandardScaler\n",
    "from sklearn.metrics import classification_report\n"
   ]
  },
  {
   "cell_type": "code",
   "execution_count": 2,
   "id": "3227c769",
   "metadata": {},
   "outputs": [],
   "source": [
    "df=pd.read_csv(\"water_potability.csv\")"
   ]
  },
  {
   "cell_type": "code",
   "execution_count": 3,
   "id": "11496c9c",
   "metadata": {},
   "outputs": [
    {
     "data": {
      "text/html": [
       "<div>\n",
       "<style scoped>\n",
       "    .dataframe tbody tr th:only-of-type {\n",
       "        vertical-align: middle;\n",
       "    }\n",
       "\n",
       "    .dataframe tbody tr th {\n",
       "        vertical-align: top;\n",
       "    }\n",
       "\n",
       "    .dataframe thead th {\n",
       "        text-align: right;\n",
       "    }\n",
       "</style>\n",
       "<table border=\"1\" class=\"dataframe\">\n",
       "  <thead>\n",
       "    <tr style=\"text-align: right;\">\n",
       "      <th></th>\n",
       "      <th>ph</th>\n",
       "      <th>Hardness</th>\n",
       "      <th>Solids</th>\n",
       "      <th>Chloramines</th>\n",
       "      <th>Sulfate</th>\n",
       "      <th>Conductivity</th>\n",
       "      <th>Organic_carbon</th>\n",
       "      <th>Trihalomethanes</th>\n",
       "      <th>Turbidity</th>\n",
       "      <th>Potability</th>\n",
       "    </tr>\n",
       "  </thead>\n",
       "  <tbody>\n",
       "    <tr>\n",
       "      <th>0</th>\n",
       "      <td>NaN</td>\n",
       "      <td>204.890455</td>\n",
       "      <td>20791.318981</td>\n",
       "      <td>7.300212</td>\n",
       "      <td>368.516441</td>\n",
       "      <td>564.308654</td>\n",
       "      <td>10.379783</td>\n",
       "      <td>86.990970</td>\n",
       "      <td>2.963135</td>\n",
       "      <td>0</td>\n",
       "    </tr>\n",
       "    <tr>\n",
       "      <th>1</th>\n",
       "      <td>3.716080</td>\n",
       "      <td>129.422921</td>\n",
       "      <td>18630.057858</td>\n",
       "      <td>6.635246</td>\n",
       "      <td>NaN</td>\n",
       "      <td>592.885359</td>\n",
       "      <td>15.180013</td>\n",
       "      <td>56.329076</td>\n",
       "      <td>4.500656</td>\n",
       "      <td>0</td>\n",
       "    </tr>\n",
       "    <tr>\n",
       "      <th>2</th>\n",
       "      <td>8.099124</td>\n",
       "      <td>224.236259</td>\n",
       "      <td>19909.541732</td>\n",
       "      <td>9.275884</td>\n",
       "      <td>NaN</td>\n",
       "      <td>418.606213</td>\n",
       "      <td>16.868637</td>\n",
       "      <td>66.420093</td>\n",
       "      <td>3.055934</td>\n",
       "      <td>0</td>\n",
       "    </tr>\n",
       "    <tr>\n",
       "      <th>3</th>\n",
       "      <td>8.316766</td>\n",
       "      <td>214.373394</td>\n",
       "      <td>22018.417441</td>\n",
       "      <td>8.059332</td>\n",
       "      <td>356.886136</td>\n",
       "      <td>363.266516</td>\n",
       "      <td>18.436524</td>\n",
       "      <td>100.341674</td>\n",
       "      <td>4.628771</td>\n",
       "      <td>0</td>\n",
       "    </tr>\n",
       "    <tr>\n",
       "      <th>4</th>\n",
       "      <td>9.092223</td>\n",
       "      <td>181.101509</td>\n",
       "      <td>17978.986339</td>\n",
       "      <td>6.546600</td>\n",
       "      <td>310.135738</td>\n",
       "      <td>398.410813</td>\n",
       "      <td>11.558279</td>\n",
       "      <td>31.997993</td>\n",
       "      <td>4.075075</td>\n",
       "      <td>0</td>\n",
       "    </tr>\n",
       "  </tbody>\n",
       "</table>\n",
       "</div>"
      ],
      "text/plain": [
       "         ph    Hardness        Solids  Chloramines     Sulfate  Conductivity  \\\n",
       "0       NaN  204.890455  20791.318981     7.300212  368.516441    564.308654   \n",
       "1  3.716080  129.422921  18630.057858     6.635246         NaN    592.885359   \n",
       "2  8.099124  224.236259  19909.541732     9.275884         NaN    418.606213   \n",
       "3  8.316766  214.373394  22018.417441     8.059332  356.886136    363.266516   \n",
       "4  9.092223  181.101509  17978.986339     6.546600  310.135738    398.410813   \n",
       "\n",
       "   Organic_carbon  Trihalomethanes  Turbidity  Potability  \n",
       "0       10.379783        86.990970   2.963135           0  \n",
       "1       15.180013        56.329076   4.500656           0  \n",
       "2       16.868637        66.420093   3.055934           0  \n",
       "3       18.436524       100.341674   4.628771           0  \n",
       "4       11.558279        31.997993   4.075075           0  "
      ]
     },
     "execution_count": 3,
     "metadata": {},
     "output_type": "execute_result"
    }
   ],
   "source": [
    "df.head()"
   ]
  },
  {
   "cell_type": "code",
   "execution_count": 4,
   "id": "5c808863",
   "metadata": {},
   "outputs": [
    {
     "data": {
      "text/html": [
       "<div>\n",
       "<style scoped>\n",
       "    .dataframe tbody tr th:only-of-type {\n",
       "        vertical-align: middle;\n",
       "    }\n",
       "\n",
       "    .dataframe tbody tr th {\n",
       "        vertical-align: top;\n",
       "    }\n",
       "\n",
       "    .dataframe thead th {\n",
       "        text-align: right;\n",
       "    }\n",
       "</style>\n",
       "<table border=\"1\" class=\"dataframe\">\n",
       "  <thead>\n",
       "    <tr style=\"text-align: right;\">\n",
       "      <th></th>\n",
       "      <th>ph</th>\n",
       "      <th>Hardness</th>\n",
       "      <th>Solids</th>\n",
       "      <th>Chloramines</th>\n",
       "      <th>Sulfate</th>\n",
       "      <th>Conductivity</th>\n",
       "      <th>Organic_carbon</th>\n",
       "      <th>Trihalomethanes</th>\n",
       "      <th>Turbidity</th>\n",
       "      <th>Potability</th>\n",
       "    </tr>\n",
       "  </thead>\n",
       "  <tbody>\n",
       "    <tr>\n",
       "      <th>3271</th>\n",
       "      <td>4.668102</td>\n",
       "      <td>193.681735</td>\n",
       "      <td>47580.991603</td>\n",
       "      <td>7.166639</td>\n",
       "      <td>359.948574</td>\n",
       "      <td>526.424171</td>\n",
       "      <td>13.894419</td>\n",
       "      <td>66.687695</td>\n",
       "      <td>4.435821</td>\n",
       "      <td>1</td>\n",
       "    </tr>\n",
       "    <tr>\n",
       "      <th>3272</th>\n",
       "      <td>7.808856</td>\n",
       "      <td>193.553212</td>\n",
       "      <td>17329.802160</td>\n",
       "      <td>8.061362</td>\n",
       "      <td>NaN</td>\n",
       "      <td>392.449580</td>\n",
       "      <td>19.903225</td>\n",
       "      <td>NaN</td>\n",
       "      <td>2.798243</td>\n",
       "      <td>1</td>\n",
       "    </tr>\n",
       "    <tr>\n",
       "      <th>3273</th>\n",
       "      <td>9.419510</td>\n",
       "      <td>175.762646</td>\n",
       "      <td>33155.578218</td>\n",
       "      <td>7.350233</td>\n",
       "      <td>NaN</td>\n",
       "      <td>432.044783</td>\n",
       "      <td>11.039070</td>\n",
       "      <td>69.845400</td>\n",
       "      <td>3.298875</td>\n",
       "      <td>1</td>\n",
       "    </tr>\n",
       "    <tr>\n",
       "      <th>3274</th>\n",
       "      <td>5.126763</td>\n",
       "      <td>230.603758</td>\n",
       "      <td>11983.869376</td>\n",
       "      <td>6.303357</td>\n",
       "      <td>NaN</td>\n",
       "      <td>402.883113</td>\n",
       "      <td>11.168946</td>\n",
       "      <td>77.488213</td>\n",
       "      <td>4.708658</td>\n",
       "      <td>1</td>\n",
       "    </tr>\n",
       "    <tr>\n",
       "      <th>3275</th>\n",
       "      <td>7.874671</td>\n",
       "      <td>195.102299</td>\n",
       "      <td>17404.177061</td>\n",
       "      <td>7.509306</td>\n",
       "      <td>NaN</td>\n",
       "      <td>327.459760</td>\n",
       "      <td>16.140368</td>\n",
       "      <td>78.698446</td>\n",
       "      <td>2.309149</td>\n",
       "      <td>1</td>\n",
       "    </tr>\n",
       "  </tbody>\n",
       "</table>\n",
       "</div>"
      ],
      "text/plain": [
       "            ph    Hardness        Solids  Chloramines     Sulfate  \\\n",
       "3271  4.668102  193.681735  47580.991603     7.166639  359.948574   \n",
       "3272  7.808856  193.553212  17329.802160     8.061362         NaN   \n",
       "3273  9.419510  175.762646  33155.578218     7.350233         NaN   \n",
       "3274  5.126763  230.603758  11983.869376     6.303357         NaN   \n",
       "3275  7.874671  195.102299  17404.177061     7.509306         NaN   \n",
       "\n",
       "      Conductivity  Organic_carbon  Trihalomethanes  Turbidity  Potability  \n",
       "3271    526.424171       13.894419        66.687695   4.435821           1  \n",
       "3272    392.449580       19.903225              NaN   2.798243           1  \n",
       "3273    432.044783       11.039070        69.845400   3.298875           1  \n",
       "3274    402.883113       11.168946        77.488213   4.708658           1  \n",
       "3275    327.459760       16.140368        78.698446   2.309149           1  "
      ]
     },
     "execution_count": 4,
     "metadata": {},
     "output_type": "execute_result"
    }
   ],
   "source": [
    "df.tail()"
   ]
  },
  {
   "cell_type": "code",
   "execution_count": 5,
   "id": "4b051cdc",
   "metadata": {},
   "outputs": [
    {
     "data": {
      "text/plain": [
       "array([0, 1], dtype=int64)"
      ]
     },
     "execution_count": 5,
     "metadata": {},
     "output_type": "execute_result"
    }
   ],
   "source": [
    "df.Potability.unique()"
   ]
  },
  {
   "cell_type": "code",
   "execution_count": 6,
   "id": "7fd6ea31",
   "metadata": {},
   "outputs": [
    {
     "data": {
      "text/plain": [
       "(10.5, -0.5)"
      ]
     },
     "execution_count": 6,
     "metadata": {},
     "output_type": "execute_result"
    },
    {
     "data": {
      "image/png": "[encoded data removed]",
      "text/plain": [
       "<Figure size 1500x1000 with 2 Axes>"
      ]
     },
     "metadata": {},
     "output_type": "display_data"
    }
   ],
   "source": [
    "corr_matrix = df.corr()\n",
    "fig, ax = plt.subplots(figsize=(15, 10))\n",
    "ax = sns.heatmap(corr_matrix,\n",
    "                 annot=True,\n",
    "                 linewidths=0.5,\n",
    "                 fmt=\".2f\",\n",
    "                 cmap=\"YlGnBu\");\n",
    "bottom, top = ax.get_ylim()\n",
    "ax.set_ylim(bottom + 0.5, top - 0.5)"
   ]
  },
  {
   "cell_type": "code",
   "execution_count": 8,
   "id": "5bfb412f",
   "metadata": {},
   "outputs": [
    {
     "data": {
      "image/png": "[encoded data removed]",
      "text/plain": [
       "<Figure size 640x480 with 1 Axes>"
      ]
     },
     "metadata": {},
     "output_type": "display_data"
    }
   ],
   "source": [
    "df[\"Potability\"].value_counts().plot(kind=\"bar\",color=[\"red\", \"blue\"]);"
   ]
  },
  {
   "cell_type": "code",
   "execution_count": 9,
   "id": "60704c94",
   "metadata": {},
   "outputs": [
    {
     "data": {
      "text/plain": [
       "0    1998\n",
       "1    1278\n",
       "Name: Potability, dtype: int64"
      ]
     },
     "execution_count": 9,
     "metadata": {},
     "output_type": "execute_result"
    }
   ],
   "source": [
    "df.Potability.value_counts()"
   ]
  },
  {
   "cell_type": "code",
   "execution_count": 10,
   "id": "e5bb929c",
   "metadata": {},
   "outputs": [
    {
     "data": {
      "text/plain": [
       "Text(0.5, 1.0, 'Potability')"
      ]
     },
     "execution_count": 10,
     "metadata": {},
     "output_type": "execute_result"
    },
    {
     "data": {
      "image/png": "[encoded data removed]",
      "text/plain": [
       "<Figure size 1000x600 with 1 Axes>"
      ]
     },
     "metadata": {},
     "output_type": "display_data"
    }
   ],
   "source": [
    "data = df.groupby(\"Potability\")[\"ph\"].sum()\n",
    "pie, ax = plt.subplots(figsize=[10,6])\n",
    "labels = data.keys()\n",
    "plt.pie(x=data, autopct=\"%.1f%%\", labels=labels, pctdistance=0.5)\n",
    "plt.title(\"Potability\", fontsize=14)"
   ]
  },
  {
   "cell_type": "code",
   "execution_count": 11,
   "id": "13226f37",
   "metadata": {},
   "outputs": [
    {
     "data": {
      "image/png": "[encoded data removed]",
      "text/plain": [
       "<Figure size 1500x1500 with 12 Axes>"
      ]
     },
     "metadata": {},
     "output_type": "display_data"
    }
   ],
   "source": [
    "df.hist(figsize=(15,15))\n",
    "plt.show()"
   ]
  },
  {
   "cell_type": "code",
   "execution_count": 9,
   "id": "007717e5",
   "metadata": {},
   "outputs": [
    {
     "name": "stdout",
     "output_type": "stream",
     "text": [
      "<class 'pandas.core.frame.DataFrame'>\n",
      "RangeIndex: 3276 entries, 0 to 3275\n",
      "Data columns (total 10 columns):\n",
      " #   Column           Non-Null Count  Dtype  \n",
      "---  ------           --------------  -----  \n",
      " 0   ph               2785 non-null   float64\n",
      " 1   Hardness         3276 non-null   float64\n",
      " 2   Solids           3276 non-null   float64\n",
      " 3   Chloramines      3276 non-null   float64\n",
      " 4   Sulfate          2495 non-null   float64\n",
      " 5   Conductivity     3276 non-null   float64\n",
      " 6   Organic_carbon   3276 non-null   float64\n",
      " 7   Trihalomethanes  3114 non-null   float64\n",
      " 8   Turbidity        3276 non-null   float64\n",
      " 9   Potability       3276 non-null   int64  \n",
      "dtypes: float64(9), int64(1)\n",
      "memory usage: 256.1 KB\n"
     ]
    }
   ],
   "source": [
    "df.info()"
   ]
  },
  {
   "cell_type": "code",
   "execution_count": 10,
   "id": "11c7c509",
   "metadata": {
    "scrolled": false
   },
   "outputs": [
    {
     "data": {
      "text/plain": [
       "ph                 491\n",
       "Hardness             0\n",
       "Solids               0\n",
       "Chloramines          0\n",
       "Sulfate            781\n",
       "Conductivity         0\n",
       "Organic_carbon       0\n",
       "Trihalomethanes    162\n",
       "Turbidity            0\n",
       "Potability           0\n",
       "dtype: int64"
      ]
     },
     "execution_count": 10,
     "metadata": {},
     "output_type": "execute_result"
    }
   ],
   "source": [
    "df.isna().sum()"
   ]
  },
  {
   "cell_type": "markdown",
   "id": "bc07965c",
   "metadata": {},
   "source": [
    "## eksik veri olan feature ların çıkarılması \n"
   ]
  },
  {
   "cell_type": "code",
   "execution_count": 11,
   "id": "06dc2c3d",
   "metadata": {},
   "outputs": [],
   "source": [
    "X=df.drop([\"Potability\",\"ph\",\"Sulfate\",\"Trihalomethanes\"],axis=1)\n",
    "y=df.Potability"
   ]
  },
  {
   "cell_type": "code",
   "execution_count": 12,
   "id": "dab86862",
   "metadata": {},
   "outputs": [
    {
     "data": {
      "text/html": [
       "<div>\n",
       "<style scoped>\n",
       "    .dataframe tbody tr th:only-of-type {\n",
       "        vertical-align: middle;\n",
       "    }\n",
       "\n",
       "    .dataframe tbody tr th {\n",
       "        vertical-align: top;\n",
       "    }\n",
       "\n",
       "    .dataframe thead th {\n",
       "        text-align: right;\n",
       "    }\n",
       "</style>\n",
       "<table border=\"1\" class=\"dataframe\">\n",
       "  <thead>\n",
       "    <tr style=\"text-align: right;\">\n",
       "      <th></th>\n",
       "      <th>Hardness</th>\n",
       "      <th>Solids</th>\n",
       "      <th>Chloramines</th>\n",
       "      <th>Conductivity</th>\n",
       "      <th>Organic_carbon</th>\n",
       "      <th>Turbidity</th>\n",
       "    </tr>\n",
       "  </thead>\n",
       "  <tbody>\n",
       "    <tr>\n",
       "      <th>0</th>\n",
       "      <td>204.890455</td>\n",
       "      <td>20791.318981</td>\n",
       "      <td>7.300212</td>\n",
       "      <td>564.308654</td>\n",
       "      <td>10.379783</td>\n",
       "      <td>2.963135</td>\n",
       "    </tr>\n",
       "    <tr>\n",
       "      <th>1</th>\n",
       "      <td>129.422921</td>\n",
       "      <td>18630.057858</td>\n",
       "      <td>6.635246</td>\n",
       "      <td>592.885359</td>\n",
       "      <td>15.180013</td>\n",
       "      <td>4.500656</td>\n",
       "    </tr>\n",
       "    <tr>\n",
       "      <th>2</th>\n",
       "      <td>224.236259</td>\n",
       "      <td>19909.541732</td>\n",
       "      <td>9.275884</td>\n",
       "      <td>418.606213</td>\n",
       "      <td>16.868637</td>\n",
       "      <td>3.055934</td>\n",
       "    </tr>\n",
       "    <tr>\n",
       "      <th>3</th>\n",
       "      <td>214.373394</td>\n",
       "      <td>22018.417441</td>\n",
       "      <td>8.059332</td>\n",
       "      <td>363.266516</td>\n",
       "      <td>18.436524</td>\n",
       "      <td>4.628771</td>\n",
       "    </tr>\n",
       "    <tr>\n",
       "      <th>4</th>\n",
       "      <td>181.101509</td>\n",
       "      <td>17978.986339</td>\n",
       "      <td>6.546600</td>\n",
       "      <td>398.410813</td>\n",
       "      <td>11.558279</td>\n",
       "      <td>4.075075</td>\n",
       "    </tr>\n",
       "    <tr>\n",
       "      <th>...</th>\n",
       "      <td>...</td>\n",
       "      <td>...</td>\n",
       "      <td>...</td>\n",
       "      <td>...</td>\n",
       "      <td>...</td>\n",
       "      <td>...</td>\n",
       "    </tr>\n",
       "    <tr>\n",
       "      <th>3271</th>\n",
       "      <td>193.681735</td>\n",
       "      <td>47580.991603</td>\n",
       "      <td>7.166639</td>\n",
       "      <td>526.424171</td>\n",
       "      <td>13.894419</td>\n",
       "      <td>4.435821</td>\n",
       "    </tr>\n",
       "    <tr>\n",
       "      <th>3272</th>\n",
       "      <td>193.553212</td>\n",
       "      <td>17329.802160</td>\n",
       "      <td>8.061362</td>\n",
       "      <td>392.449580</td>\n",
       "      <td>19.903225</td>\n",
       "      <td>2.798243</td>\n",
       "    </tr>\n",
       "    <tr>\n",
       "      <th>3273</th>\n",
       "      <td>175.762646</td>\n",
       "      <td>33155.578218</td>\n",
       "      <td>7.350233</td>\n",
       "      <td>432.044783</td>\n",
       "      <td>11.039070</td>\n",
       "      <td>3.298875</td>\n",
       "    </tr>\n",
       "    <tr>\n",
       "      <th>3274</th>\n",
       "      <td>230.603758</td>\n",
       "      <td>11983.869376</td>\n",
       "      <td>6.303357</td>\n",
       "      <td>402.883113</td>\n",
       "      <td>11.168946</td>\n",
       "      <td>4.708658</td>\n",
       "    </tr>\n",
       "    <tr>\n",
       "      <th>3275</th>\n",
       "      <td>195.102299</td>\n",
       "      <td>17404.177061</td>\n",
       "      <td>7.509306</td>\n",
       "      <td>327.459760</td>\n",
       "      <td>16.140368</td>\n",
       "      <td>2.309149</td>\n",
       "    </tr>\n",
       "  </tbody>\n",
       "</table>\n",
       "<p>3276 rows × 6 columns</p>\n",
       "</div>"
      ],
      "text/plain": [
       "        Hardness        Solids  Chloramines  Conductivity  Organic_carbon  \\\n",
       "0     204.890455  20791.318981     7.300212    564.308654       10.379783   \n",
       "1     129.422921  18630.057858     6.635246    592.885359       15.180013   \n",
       "2     224.236259  19909.541732     9.275884    418.606213       16.868637   \n",
       "3     214.373394  22018.417441     8.059332    363.266516       18.436524   \n",
       "4     181.101509  17978.986339     6.546600    398.410813       11.558279   \n",
       "...          ...           ...          ...           ...             ...   \n",
       "3271  193.681735  47580.991603     7.166639    526.424171       13.894419   \n",
       "3272  193.553212  17329.802160     8.061362    392.449580       19.903225   \n",
       "3273  175.762646  33155.578218     7.350233    432.044783       11.039070   \n",
       "3274  230.603758  11983.869376     6.303357    402.883113       11.168946   \n",
       "3275  195.102299  17404.177061     7.509306    327.459760       16.140368   \n",
       "\n",
       "      Turbidity  \n",
       "0      2.963135  \n",
       "1      4.500656  \n",
       "2      3.055934  \n",
       "3      4.628771  \n",
       "4      4.075075  \n",
       "...         ...  \n",
       "3271   4.435821  \n",
       "3272   2.798243  \n",
       "3273   3.298875  \n",
       "3274   4.708658  \n",
       "3275   2.309149  \n",
       "\n",
       "[3276 rows x 6 columns]"
      ]
     },
     "execution_count": 12,
     "metadata": {},
     "output_type": "execute_result"
    }
   ],
   "source": [
    "X"
   ]
  },
  {
   "cell_type": "code",
   "execution_count": 13,
   "id": "68b10092",
   "metadata": {},
   "outputs": [
    {
     "data": {
      "text/plain": [
       "0       0\n",
       "1       0\n",
       "2       0\n",
       "3       0\n",
       "4       0\n",
       "       ..\n",
       "3271    1\n",
       "3272    1\n",
       "3273    1\n",
       "3274    1\n",
       "3275    1\n",
       "Name: Potability, Length: 3276, dtype: int64"
      ]
     },
     "execution_count": 13,
     "metadata": {},
     "output_type": "execute_result"
    }
   ],
   "source": [
    "y"
   ]
  },
  {
   "cell_type": "markdown",
   "id": "808d4f7e",
   "metadata": {},
   "source": [
    "## RandomForestClassifier ile model kurulması"
   ]
  },
  {
   "cell_type": "code",
   "execution_count": 14,
   "id": "637c2703",
   "metadata": {},
   "outputs": [],
   "source": [
    "X_train,X_test,y_train,y_test=train_test_split(X,y,test_size=0.2,random_state=42,stratify=y)"
   ]
  },
  {
   "cell_type": "code",
   "execution_count": 165,
   "id": "cf9d051b",
   "metadata": {},
   "outputs": [
    {
     "data": {
      "text/plain": [
       "{'memory': None,\n",
       " 'steps': [('scaler', StandardScaler()),\n",
       "  ('Classifier',\n",
       "   RandomForestClassifier(max_features=4, n_estimators=400, random_state=42))],\n",
       " 'verbose': False,\n",
       " 'scaler': StandardScaler(),\n",
       " 'Classifier': RandomForestClassifier(max_features=4, n_estimators=400, random_state=42),\n",
       " 'scaler__copy': True,\n",
       " 'scaler__with_mean': True,\n",
       " 'scaler__with_std': True,\n",
       " 'Classifier__bootstrap': True,\n",
       " 'Classifier__ccp_alpha': 0.0,\n",
       " 'Classifier__class_weight': None,\n",
       " 'Classifier__criterion': 'gini',\n",
       " 'Classifier__max_depth': None,\n",
       " 'Classifier__max_features': 4,\n",
       " 'Classifier__max_leaf_nodes': None,\n",
       " 'Classifier__max_samples': None,\n",
       " 'Classifier__min_impurity_decrease': 0.0,\n",
       " 'Classifier__min_samples_leaf': 1,\n",
       " 'Classifier__min_samples_split': 2,\n",
       " 'Classifier__min_weight_fraction_leaf': 0.0,\n",
       " 'Classifier__n_estimators': 400,\n",
       " 'Classifier__n_jobs': None,\n",
       " 'Classifier__oob_score': False,\n",
       " 'Classifier__random_state': 42,\n",
       " 'Classifier__verbose': 0,\n",
       " 'Classifier__warm_start': False}"
      ]
     },
     "execution_count": 165,
     "metadata": {},
     "output_type": "execute_result"
    }
   ],
   "source": [
    "mdl=RandomForestClassifier()\n",
    "\n",
    "pipe = Pipeline([('scaler', StandardScaler()),('Classifier',RandomForestClassifier())])\n",
    "\n",
    "search_space = [{'Classifier': [RandomForestClassifier(random_state=42)],\n",
    "                 'Classifier__n_estimators': [200,300,400,500],\n",
    "                 'Classifier__max_features': np.arange(1,7)}]\n",
    "\n",
    " \n",
    "clf = GridSearchCV(pipe, search_space, cv=StratifiedKFold(n_splits=5,shuffle=True,random_state=3), \n",
    "                verbose=0,scoring=\"accuracy\")\n",
    "\n",
    "mdl = clf.fit(X_train, y_train)\n",
    "\n",
    "mdl.best_estimator_.get_params()"
   ]
  },
  {
   "cell_type": "code",
   "execution_count": 15,
   "id": "d3bf8f0b",
   "metadata": {},
   "outputs": [],
   "source": [
    "scaler = StandardScaler()\n",
    "scaler.fit(X_train)\n",
    "X_trainStandard = scaler.transform(X_train)\n",
    "X_testStandard = scaler.transform(X_test)"
   ]
  },
  {
   "cell_type": "code",
   "execution_count": 16,
   "id": "37602641",
   "metadata": {},
   "outputs": [
    {
     "name": "stdout",
     "output_type": "stream",
     "text": [
      "Accuracy: 0.6021341463414634\n"
     ]
    }
   ],
   "source": [
    "mdl= RandomForestClassifier(max_features=4, n_estimators=400, random_state=42,oob_score=True)\n",
    "mdl.fit(X_trainStandard,y_train)\n",
    "ypred=mdl.predict(X_testStandard)\n",
    "print(\"Accuracy:\",accuracy_score(y_test, ypred))"
   ]
  },
  {
   "cell_type": "code",
   "execution_count": 17,
   "id": "d1d75280",
   "metadata": {},
   "outputs": [
    {
     "data": {
      "text/html": [
       "<div>\n",
       "<style scoped>\n",
       "    .dataframe tbody tr th:only-of-type {\n",
       "        vertical-align: middle;\n",
       "    }\n",
       "\n",
       "    .dataframe tbody tr th {\n",
       "        vertical-align: top;\n",
       "    }\n",
       "\n",
       "    .dataframe thead th {\n",
       "        text-align: right;\n",
       "    }\n",
       "</style>\n",
       "<table border=\"1\" class=\"dataframe\">\n",
       "  <thead>\n",
       "    <tr style=\"text-align: right;\">\n",
       "      <th></th>\n",
       "      <th>Accuracy</th>\n",
       "    </tr>\n",
       "  </thead>\n",
       "  <tbody>\n",
       "    <tr>\n",
       "      <th>DropNA-RFC</th>\n",
       "      <td>0.602134</td>\n",
       "    </tr>\n",
       "  </tbody>\n",
       "</table>\n",
       "</div>"
      ],
      "text/plain": [
       "            Accuracy\n",
       "DropNA-RFC  0.602134"
      ]
     },
     "execution_count": 17,
     "metadata": {},
     "output_type": "execute_result"
    }
   ],
   "source": [
    "results = pd.DataFrame([], columns = [\"Accuracy\"])\n",
    "results.loc[\"DropNA-RFC\"] = [accuracy_score(y_test, ypred)]\n",
    "results"
   ]
  },
  {
   "cell_type": "markdown",
   "id": "502fb09c",
   "metadata": {},
   "source": [
    "## KNN ile model kurulması"
   ]
  },
  {
   "cell_type": "code",
   "execution_count": 46,
   "id": "fc601ef6",
   "metadata": {},
   "outputs": [],
   "source": [
    "X_train,X_test,y_train,y_test=train_test_split(X,y,test_size=0.2,random_state=42,stratify=y)"
   ]
  },
  {
   "cell_type": "code",
   "execution_count": 169,
   "id": "6e77b92e",
   "metadata": {},
   "outputs": [
    {
     "data": {
      "text/plain": [
       "{'memory': None,\n",
       " 'steps': [('scaler', StandardScaler()),\n",
       "  ('Classifier', KNeighborsClassifier(n_neighbors=4))],\n",
       " 'verbose': False,\n",
       " 'scaler': StandardScaler(),\n",
       " 'Classifier': KNeighborsClassifier(n_neighbors=4),\n",
       " 'scaler__copy': True,\n",
       " 'scaler__with_mean': True,\n",
       " 'scaler__with_std': True,\n",
       " 'Classifier__algorithm': 'auto',\n",
       " 'Classifier__leaf_size': 30,\n",
       " 'Classifier__metric': 'minkowski',\n",
       " 'Classifier__metric_params': None,\n",
       " 'Classifier__n_jobs': None,\n",
       " 'Classifier__n_neighbors': 4,\n",
       " 'Classifier__p': 2,\n",
       " 'Classifier__weights': 'uniform'}"
      ]
     },
     "execution_count": 169,
     "metadata": {},
     "output_type": "execute_result"
    }
   ],
   "source": [
    "mdl=KNeighborsClassifier()\n",
    "\n",
    "pipe = Pipeline([('scaler', StandardScaler()),('Classifier',KNeighborsClassifier())])\n",
    "\n",
    "search_space = [{'Classifier': [KNeighborsClassifier()],\n",
    "                 'Classifier__n_neighbors':np.arange(1,7)}]\n",
    "\n",
    "\n",
    "clf = GridSearchCV(pipe, search_space, cv=StratifiedKFold(n_splits=5,shuffle=True,random_state=3), \n",
    "                verbose=0,scoring=\"accuracy\")\n",
    "\n",
    "mdl = clf.fit(X_train, y_train)\n",
    "\n",
    "mdl.best_estimator_.get_params()"
   ]
  },
  {
   "cell_type": "code",
   "execution_count": 18,
   "id": "12ae5235",
   "metadata": {},
   "outputs": [],
   "source": [
    "scaler = StandardScaler()\n",
    "scaler.fit(X_train)\n",
    "X_trainStandard = scaler.transform(X_train)\n",
    "X_testStandard = scaler.transform(X_test)"
   ]
  },
  {
   "cell_type": "code",
   "execution_count": 19,
   "id": "b76d745f",
   "metadata": {},
   "outputs": [
    {
     "name": "stdout",
     "output_type": "stream",
     "text": [
      "Accuracy: 0.5853658536585366\n"
     ]
    }
   ],
   "source": [
    "knn = KNeighborsClassifier(n_neighbors=4)\n",
    "knn.fit(X_trainStandard,y_train)\n",
    "ypred=knn.predict(X_testStandard)\n",
    "print(\"Accuracy:\",accuracy_score(y_test, ypred))"
   ]
  },
  {
   "cell_type": "code",
   "execution_count": 20,
   "id": "fe901b8d",
   "metadata": {},
   "outputs": [
    {
     "data": {
      "text/html": [
       "<div>\n",
       "<style scoped>\n",
       "    .dataframe tbody tr th:only-of-type {\n",
       "        vertical-align: middle;\n",
       "    }\n",
       "\n",
       "    .dataframe tbody tr th {\n",
       "        vertical-align: top;\n",
       "    }\n",
       "\n",
       "    .dataframe thead th {\n",
       "        text-align: right;\n",
       "    }\n",
       "</style>\n",
       "<table border=\"1\" class=\"dataframe\">\n",
       "  <thead>\n",
       "    <tr style=\"text-align: right;\">\n",
       "      <th></th>\n",
       "      <th>Accuracy</th>\n",
       "    </tr>\n",
       "  </thead>\n",
       "  <tbody>\n",
       "    <tr>\n",
       "      <th>DropNA-RFC</th>\n",
       "      <td>0.602134</td>\n",
       "    </tr>\n",
       "    <tr>\n",
       "      <th>DropNA-KNN</th>\n",
       "      <td>0.585366</td>\n",
       "    </tr>\n",
       "  </tbody>\n",
       "</table>\n",
       "</div>"
      ],
      "text/plain": [
       "            Accuracy\n",
       "DropNA-RFC  0.602134\n",
       "DropNA-KNN  0.585366"
      ]
     },
     "execution_count": 20,
     "metadata": {},
     "output_type": "execute_result"
    }
   ],
   "source": [
    "\n",
    "results.loc[\"DropNA-KNN\"] = [accuracy_score(y_test, ypred)]\n",
    "results\n"
   ]
  },
  {
   "cell_type": "markdown",
   "id": "c17b9d59",
   "metadata": {},
   "source": [
    "## Logistic Regression ile model kurulması"
   ]
  },
  {
   "cell_type": "code",
   "execution_count": 52,
   "id": "36c43d57",
   "metadata": {},
   "outputs": [],
   "source": [
    "X_train,X_test,y_train,y_test=train_test_split(X,y,test_size=0.2,random_state=42,stratify=y)"
   ]
  },
  {
   "cell_type": "code",
   "execution_count": 173,
   "id": "1ae00c08",
   "metadata": {},
   "outputs": [
    {
     "data": {
      "text/plain": [
       "{'memory': None,\n",
       " 'steps': [('scaler', StandardScaler()),\n",
       "  ('Classifier',\n",
       "   LogisticRegression(C=0.0001, penalty='l1', solver='liblinear'))],\n",
       " 'verbose': False,\n",
       " 'scaler': StandardScaler(),\n",
       " 'Classifier': LogisticRegression(C=0.0001, penalty='l1', solver='liblinear'),\n",
       " 'scaler__copy': True,\n",
       " 'scaler__with_mean': True,\n",
       " 'scaler__with_std': True,\n",
       " 'Classifier__C': 0.0001,\n",
       " 'Classifier__class_weight': None,\n",
       " 'Classifier__dual': False,\n",
       " 'Classifier__fit_intercept': True,\n",
       " 'Classifier__intercept_scaling': 1,\n",
       " 'Classifier__l1_ratio': None,\n",
       " 'Classifier__max_iter': 100,\n",
       " 'Classifier__multi_class': 'auto',\n",
       " 'Classifier__n_jobs': None,\n",
       " 'Classifier__penalty': 'l1',\n",
       " 'Classifier__random_state': None,\n",
       " 'Classifier__solver': 'liblinear',\n",
       " 'Classifier__tol': 0.0001,\n",
       " 'Classifier__verbose': 0,\n",
       " 'Classifier__warm_start': False}"
      ]
     },
     "execution_count": 173,
     "metadata": {},
     "output_type": "execute_result"
    }
   ],
   "source": [
    "mdl=LogisticRegression()\n",
    "\n",
    "pipe = Pipeline([('scaler', StandardScaler()),('Classifier',LogisticRegression())])\n",
    "\n",
    "search_space = [{'Classifier': [LogisticRegression(solver='liblinear')],\n",
    "                 'Classifier__C': np.logspace(-4, 4, 100),\n",
    "                 'Classifier__penalty':['l1','l2']}]\n",
    "\n",
    "\n",
    "clf = GridSearchCV(pipe, search_space, cv=StratifiedKFold(n_splits=5,shuffle=True,random_state=3), \n",
    "                verbose=0,scoring=\"accuracy\")\n",
    "\n",
    "mdl = clf.fit(X_train, y_train)\n",
    "\n",
    "mdl.best_estimator_.get_params()"
   ]
  },
  {
   "cell_type": "code",
   "execution_count": 21,
   "id": "1401f8a5",
   "metadata": {},
   "outputs": [],
   "source": [
    "scaler = StandardScaler()\n",
    "scaler.fit(X_train)\n",
    "X_trainStandard = scaler.transform(X_train)\n",
    "X_testStandard = scaler.transform(X_test)"
   ]
  },
  {
   "cell_type": "code",
   "execution_count": 22,
   "id": "b01cbbf6",
   "metadata": {},
   "outputs": [
    {
     "name": "stdout",
     "output_type": "stream",
     "text": [
      "Accuracy: 0.6097560975609756\n"
     ]
    }
   ],
   "source": [
    "mdl=LogisticRegression(solver=\"liblinear\",max_iter=1000,C=0.0001,penalty=\"l1\")\n",
    "mdl.fit(X_trainStandard,y_train)\n",
    "ypred=mdl.predict(X_testStandard)\n",
    "print(\"Accuracy:\",accuracy_score(y_test, ypred))"
   ]
  },
  {
   "cell_type": "code",
   "execution_count": 23,
   "id": "3e756845",
   "metadata": {},
   "outputs": [
    {
     "data": {
      "text/html": [
       "<div>\n",
       "<style scoped>\n",
       "    .dataframe tbody tr th:only-of-type {\n",
       "        vertical-align: middle;\n",
       "    }\n",
       "\n",
       "    .dataframe tbody tr th {\n",
       "        vertical-align: top;\n",
       "    }\n",
       "\n",
       "    .dataframe thead th {\n",
       "        text-align: right;\n",
       "    }\n",
       "</style>\n",
       "<table border=\"1\" class=\"dataframe\">\n",
       "  <thead>\n",
       "    <tr style=\"text-align: right;\">\n",
       "      <th></th>\n",
       "      <th>Accuracy</th>\n",
       "    </tr>\n",
       "  </thead>\n",
       "  <tbody>\n",
       "    <tr>\n",
       "      <th>DropNA-RFC</th>\n",
       "      <td>0.602134</td>\n",
       "    </tr>\n",
       "    <tr>\n",
       "      <th>DropNA-KNN</th>\n",
       "      <td>0.585366</td>\n",
       "    </tr>\n",
       "    <tr>\n",
       "      <th>DropNA-LR</th>\n",
       "      <td>0.609756</td>\n",
       "    </tr>\n",
       "  </tbody>\n",
       "</table>\n",
       "</div>"
      ],
      "text/plain": [
       "            Accuracy\n",
       "DropNA-RFC  0.602134\n",
       "DropNA-KNN  0.585366\n",
       "DropNA-LR   0.609756"
      ]
     },
     "execution_count": 23,
     "metadata": {},
     "output_type": "execute_result"
    }
   ],
   "source": [
    "\n",
    "results.loc[\"DropNA-LR\"] = [accuracy_score(y_test, ypred)]\n",
    "results"
   ]
  },
  {
   "cell_type": "markdown",
   "id": "4d21e65c",
   "metadata": {},
   "source": [
    "## Summary\n",
    "\n",
    "Eksik verilerin olduğu featureları datadan çıkarmamız durumunda uyguladığımız 3 modelden en iyi sonucu Logistic Regression ile elde ettik."
   ]
  },
  {
   "cell_type": "markdown",
   "id": "9ab95303",
   "metadata": {},
   "source": [
    "## EKSİK VERİLERİN MEAN DEĞERLERLE DOLDURULMASI\n"
   ]
  },
  {
   "cell_type": "code",
   "execution_count": 12,
   "id": "e22c41fe",
   "metadata": {},
   "outputs": [],
   "source": [
    "miss_percent=df.isnull().mean()"
   ]
  },
  {
   "cell_type": "code",
   "execution_count": 13,
   "id": "f7cc0c0d",
   "metadata": {},
   "outputs": [
    {
     "data": {
      "text/plain": [
       "ph                 0.149878\n",
       "Hardness           0.000000\n",
       "Solids             0.000000\n",
       "Chloramines        0.000000\n",
       "Sulfate            0.238400\n",
       "Conductivity       0.000000\n",
       "Organic_carbon     0.000000\n",
       "Trihalomethanes    0.049451\n",
       "Turbidity          0.000000\n",
       "Potability         0.000000\n",
       "dtype: float64"
      ]
     },
     "execution_count": 13,
     "metadata": {},
     "output_type": "execute_result"
    }
   ],
   "source": [
    "miss_percent"
   ]
  },
  {
   "cell_type": "code",
   "execution_count": 14,
   "id": "fad5c6f5",
   "metadata": {},
   "outputs": [
    {
     "data": {
      "text/plain": [
       "7.080794504276819"
      ]
     },
     "execution_count": 14,
     "metadata": {},
     "output_type": "execute_result"
    }
   ],
   "source": [
    "df.ph.mean()"
   ]
  },
  {
   "cell_type": "code",
   "execution_count": 15,
   "id": "dbfc2c8a",
   "metadata": {},
   "outputs": [],
   "source": [
    "df[\"ph\"]=df.ph.fillna(df.ph.mean())"
   ]
  },
  {
   "cell_type": "code",
   "execution_count": 16,
   "id": "672f1992",
   "metadata": {},
   "outputs": [
    {
     "data": {
      "text/plain": [
       "0"
      ]
     },
     "execution_count": 16,
     "metadata": {},
     "output_type": "execute_result"
    }
   ],
   "source": [
    "df.ph.isna().sum()"
   ]
  },
  {
   "cell_type": "code",
   "execution_count": 17,
   "id": "b87af59b",
   "metadata": {},
   "outputs": [],
   "source": [
    "df[\"Sulfate\"]=df.Sulfate.fillna(df.Sulfate.mean())"
   ]
  },
  {
   "cell_type": "code",
   "execution_count": 18,
   "id": "7c0683a8",
   "metadata": {},
   "outputs": [
    {
     "data": {
      "text/plain": [
       "0"
      ]
     },
     "execution_count": 18,
     "metadata": {},
     "output_type": "execute_result"
    }
   ],
   "source": [
    "df.Sulfate.isna().sum()"
   ]
  },
  {
   "cell_type": "code",
   "execution_count": 19,
   "id": "b7580989",
   "metadata": {},
   "outputs": [],
   "source": [
    "df[\"Trihalomethanes\"]=df.Trihalomethanes.fillna(df.Trihalomethanes.mean())"
   ]
  },
  {
   "cell_type": "code",
   "execution_count": 20,
   "id": "4f078445",
   "metadata": {
    "scrolled": true
   },
   "outputs": [
    {
     "data": {
      "text/plain": [
       "0"
      ]
     },
     "execution_count": 20,
     "metadata": {},
     "output_type": "execute_result"
    }
   ],
   "source": [
    "df.Trihalomethanes.isna().sum()"
   ]
  },
  {
   "cell_type": "code",
   "execution_count": 21,
   "id": "ac49dacb",
   "metadata": {},
   "outputs": [],
   "source": [
    "X=df.drop(\"Potability\",axis=1)\n",
    "y=df.Potability"
   ]
  },
  {
   "cell_type": "code",
   "execution_count": 22,
   "id": "993a3777",
   "metadata": {},
   "outputs": [
    {
     "data": {
      "text/html": [
       "<div>\n",
       "<style scoped>\n",
       "    .dataframe tbody tr th:only-of-type {\n",
       "        vertical-align: middle;\n",
       "    }\n",
       "\n",
       "    .dataframe tbody tr th {\n",
       "        vertical-align: top;\n",
       "    }\n",
       "\n",
       "    .dataframe thead th {\n",
       "        text-align: right;\n",
       "    }\n",
       "</style>\n",
       "<table border=\"1\" class=\"dataframe\">\n",
       "  <thead>\n",
       "    <tr style=\"text-align: right;\">\n",
       "      <th></th>\n",
       "      <th>ph</th>\n",
       "      <th>Hardness</th>\n",
       "      <th>Solids</th>\n",
       "      <th>Chloramines</th>\n",
       "      <th>Sulfate</th>\n",
       "      <th>Conductivity</th>\n",
       "      <th>Organic_carbon</th>\n",
       "      <th>Trihalomethanes</th>\n",
       "      <th>Turbidity</th>\n",
       "    </tr>\n",
       "  </thead>\n",
       "  <tbody>\n",
       "    <tr>\n",
       "      <th>0</th>\n",
       "      <td>7.080795</td>\n",
       "      <td>204.890455</td>\n",
       "      <td>20791.318981</td>\n",
       "      <td>7.300212</td>\n",
       "      <td>368.516441</td>\n",
       "      <td>564.308654</td>\n",
       "      <td>10.379783</td>\n",
       "      <td>86.990970</td>\n",
       "      <td>2.963135</td>\n",
       "    </tr>\n",
       "    <tr>\n",
       "      <th>1</th>\n",
       "      <td>3.716080</td>\n",
       "      <td>129.422921</td>\n",
       "      <td>18630.057858</td>\n",
       "      <td>6.635246</td>\n",
       "      <td>333.775777</td>\n",
       "      <td>592.885359</td>\n",
       "      <td>15.180013</td>\n",
       "      <td>56.329076</td>\n",
       "      <td>4.500656</td>\n",
       "    </tr>\n",
       "    <tr>\n",
       "      <th>2</th>\n",
       "      <td>8.099124</td>\n",
       "      <td>224.236259</td>\n",
       "      <td>19909.541732</td>\n",
       "      <td>9.275884</td>\n",
       "      <td>333.775777</td>\n",
       "      <td>418.606213</td>\n",
       "      <td>16.868637</td>\n",
       "      <td>66.420093</td>\n",
       "      <td>3.055934</td>\n",
       "    </tr>\n",
       "    <tr>\n",
       "      <th>3</th>\n",
       "      <td>8.316766</td>\n",
       "      <td>214.373394</td>\n",
       "      <td>22018.417441</td>\n",
       "      <td>8.059332</td>\n",
       "      <td>356.886136</td>\n",
       "      <td>363.266516</td>\n",
       "      <td>18.436524</td>\n",
       "      <td>100.341674</td>\n",
       "      <td>4.628771</td>\n",
       "    </tr>\n",
       "    <tr>\n",
       "      <th>4</th>\n",
       "      <td>9.092223</td>\n",
       "      <td>181.101509</td>\n",
       "      <td>17978.986339</td>\n",
       "      <td>6.546600</td>\n",
       "      <td>310.135738</td>\n",
       "      <td>398.410813</td>\n",
       "      <td>11.558279</td>\n",
       "      <td>31.997993</td>\n",
       "      <td>4.075075</td>\n",
       "    </tr>\n",
       "    <tr>\n",
       "      <th>...</th>\n",
       "      <td>...</td>\n",
       "      <td>...</td>\n",
       "      <td>...</td>\n",
       "      <td>...</td>\n",
       "      <td>...</td>\n",
       "      <td>...</td>\n",
       "      <td>...</td>\n",
       "      <td>...</td>\n",
       "      <td>...</td>\n",
       "    </tr>\n",
       "    <tr>\n",
       "      <th>3271</th>\n",
       "      <td>4.668102</td>\n",
       "      <td>193.681735</td>\n",
       "      <td>47580.991603</td>\n",
       "      <td>7.166639</td>\n",
       "      <td>359.948574</td>\n",
       "      <td>526.424171</td>\n",
       "      <td>13.894419</td>\n",
       "      <td>66.687695</td>\n",
       "      <td>4.435821</td>\n",
       "    </tr>\n",
       "    <tr>\n",
       "      <th>3272</th>\n",
       "      <td>7.808856</td>\n",
       "      <td>193.553212</td>\n",
       "      <td>17329.802160</td>\n",
       "      <td>8.061362</td>\n",
       "      <td>333.775777</td>\n",
       "      <td>392.449580</td>\n",
       "      <td>19.903225</td>\n",
       "      <td>66.396293</td>\n",
       "      <td>2.798243</td>\n",
       "    </tr>\n",
       "    <tr>\n",
       "      <th>3273</th>\n",
       "      <td>9.419510</td>\n",
       "      <td>175.762646</td>\n",
       "      <td>33155.578218</td>\n",
       "      <td>7.350233</td>\n",
       "      <td>333.775777</td>\n",
       "      <td>432.044783</td>\n",
       "      <td>11.039070</td>\n",
       "      <td>69.845400</td>\n",
       "      <td>3.298875</td>\n",
       "    </tr>\n",
       "    <tr>\n",
       "      <th>3274</th>\n",
       "      <td>5.126763</td>\n",
       "      <td>230.603758</td>\n",
       "      <td>11983.869376</td>\n",
       "      <td>6.303357</td>\n",
       "      <td>333.775777</td>\n",
       "      <td>402.883113</td>\n",
       "      <td>11.168946</td>\n",
       "      <td>77.488213</td>\n",
       "      <td>4.708658</td>\n",
       "    </tr>\n",
       "    <tr>\n",
       "      <th>3275</th>\n",
       "      <td>7.874671</td>\n",
       "      <td>195.102299</td>\n",
       "      <td>17404.177061</td>\n",
       "      <td>7.509306</td>\n",
       "      <td>333.775777</td>\n",
       "      <td>327.459760</td>\n",
       "      <td>16.140368</td>\n",
       "      <td>78.698446</td>\n",
       "      <td>2.309149</td>\n",
       "    </tr>\n",
       "  </tbody>\n",
       "</table>\n",
       "<p>3276 rows × 9 columns</p>\n",
       "</div>"
      ],
      "text/plain": [
       "            ph    Hardness        Solids  Chloramines     Sulfate  \\\n",
       "0     7.080795  204.890455  20791.318981     7.300212  368.516441   \n",
       "1     3.716080  129.422921  18630.057858     6.635246  333.775777   \n",
       "2     8.099124  224.236259  19909.541732     9.275884  333.775777   \n",
       "3     8.316766  214.373394  22018.417441     8.059332  356.886136   \n",
       "4     9.092223  181.101509  17978.986339     6.546600  310.135738   \n",
       "...        ...         ...           ...          ...         ...   \n",
       "3271  4.668102  193.681735  47580.991603     7.166639  359.948574   \n",
       "3272  7.808856  193.553212  17329.802160     8.061362  333.775777   \n",
       "3273  9.419510  175.762646  33155.578218     7.350233  333.775777   \n",
       "3274  5.126763  230.603758  11983.869376     6.303357  333.775777   \n",
       "3275  7.874671  195.102299  17404.177061     7.509306  333.775777   \n",
       "\n",
       "      Conductivity  Organic_carbon  Trihalomethanes  Turbidity  \n",
       "0       564.308654       10.379783        86.990970   2.963135  \n",
       "1       592.885359       15.180013        56.329076   4.500656  \n",
       "2       418.606213       16.868637        66.420093   3.055934  \n",
       "3       363.266516       18.436524       100.341674   4.628771  \n",
       "4       398.410813       11.558279        31.997993   4.075075  \n",
       "...            ...             ...              ...        ...  \n",
       "3271    526.424171       13.894419        66.687695   4.435821  \n",
       "3272    392.449580       19.903225        66.396293   2.798243  \n",
       "3273    432.044783       11.039070        69.845400   3.298875  \n",
       "3274    402.883113       11.168946        77.488213   4.708658  \n",
       "3275    327.459760       16.140368        78.698446   2.309149  \n",
       "\n",
       "[3276 rows x 9 columns]"
      ]
     },
     "execution_count": 22,
     "metadata": {},
     "output_type": "execute_result"
    }
   ],
   "source": [
    "X"
   ]
  },
  {
   "cell_type": "code",
   "execution_count": 23,
   "id": "eba99ace",
   "metadata": {},
   "outputs": [
    {
     "data": {
      "text/plain": [
       "0       0\n",
       "1       0\n",
       "2       0\n",
       "3       0\n",
       "4       0\n",
       "       ..\n",
       "3271    1\n",
       "3272    1\n",
       "3273    1\n",
       "3274    1\n",
       "3275    1\n",
       "Name: Potability, Length: 3276, dtype: int64"
      ]
     },
     "execution_count": 23,
     "metadata": {},
     "output_type": "execute_result"
    }
   ],
   "source": [
    "y"
   ]
  },
  {
   "cell_type": "code",
   "execution_count": 34,
   "id": "a8e7c7b4",
   "metadata": {},
   "outputs": [],
   "source": [
    "X_train,X_test,y_train,y_test=train_test_split(X,y,test_size=0.2,random_state=42,stratify=y)"
   ]
  },
  {
   "cell_type": "code",
   "execution_count": 191,
   "id": "c6abd67b",
   "metadata": {},
   "outputs": [
    {
     "data": {
      "text/plain": [
       "Solids             1.999819\n",
       "Chloramines        0.804501\n",
       "Organic_carbon     0.446335\n",
       "Sulfate            0.441589\n",
       "ph                 0.250824\n",
       "Trihalomethanes    0.040952\n",
       "Conductivity       0.018222\n",
       "Hardness           0.013873\n",
       "Turbidity          0.005797\n",
       "dtype: float64"
      ]
     },
     "execution_count": 191,
     "metadata": {},
     "output_type": "execute_result"
    }
   ],
   "source": [
    "from sklearn.feature_selection import SelectKBest, f_regression\n",
    "\n",
    "selector = SelectKBest(f_regression, k = \"all\")\n",
    "selector.fit(X_train, y_train)\n",
    "\n",
    "f_values = pd.Series(selector.scores_, index = X_train.columns)\n",
    "f_values = f_values.sort_values(ascending=False)\n",
    "f_values"
   ]
  },
  {
   "cell_type": "markdown",
   "id": "3a05fc0f",
   "metadata": {},
   "source": [
    "## RandomForestClassifier ile model kurulması"
   ]
  },
  {
   "cell_type": "code",
   "execution_count": 34,
   "id": "05f25e3f",
   "metadata": {},
   "outputs": [],
   "source": [
    "X_train,X_test,y_train,y_test=train_test_split(X,y,test_size=0.2,random_state=42,stratify=y)"
   ]
  },
  {
   "cell_type": "code",
   "execution_count": 35,
   "id": "2f35c335",
   "metadata": {},
   "outputs": [
    {
     "data": {
      "text/plain": [
       "{'memory': None,\n",
       " 'steps': [('scaler', StandardScaler()),\n",
       "  ('Classifier',\n",
       "   RandomForestClassifier(max_features=7, n_estimators=200, random_state=42))],\n",
       " 'verbose': False,\n",
       " 'scaler': StandardScaler(),\n",
       " 'Classifier': RandomForestClassifier(max_features=7, n_estimators=200, random_state=42),\n",
       " 'scaler__copy': True,\n",
       " 'scaler__with_mean': True,\n",
       " 'scaler__with_std': True,\n",
       " 'Classifier__bootstrap': True,\n",
       " 'Classifier__ccp_alpha': 0.0,\n",
       " 'Classifier__class_weight': None,\n",
       " 'Classifier__criterion': 'gini',\n",
       " 'Classifier__max_depth': None,\n",
       " 'Classifier__max_features': 7,\n",
       " 'Classifier__max_leaf_nodes': None,\n",
       " 'Classifier__max_samples': None,\n",
       " 'Classifier__min_impurity_decrease': 0.0,\n",
       " 'Classifier__min_samples_leaf': 1,\n",
       " 'Classifier__min_samples_split': 2,\n",
       " 'Classifier__min_weight_fraction_leaf': 0.0,\n",
       " 'Classifier__n_estimators': 200,\n",
       " 'Classifier__n_jobs': None,\n",
       " 'Classifier__oob_score': False,\n",
       " 'Classifier__random_state': 42,\n",
       " 'Classifier__verbose': 0,\n",
       " 'Classifier__warm_start': False}"
      ]
     },
     "execution_count": 35,
     "metadata": {},
     "output_type": "execute_result"
    }
   ],
   "source": [
    "mdl=RandomForestClassifier()\n",
    "\n",
    "pipe = Pipeline([('scaler', StandardScaler()),('Classifier',RandomForestClassifier())])\n",
    "\n",
    "search_space = [{'Classifier': [RandomForestClassifier(random_state=42)],\n",
    "                 'Classifier__n_estimators': [200,200,300,400,500],\n",
    "                 'Classifier__max_features': np.arange(1,10)}]\n",
    "\n",
    "\n",
    "clf = GridSearchCV(pipe, search_space, cv=StratifiedKFold(n_splits=5,shuffle=True,random_state=3), \n",
    "                verbose=0,scoring=\"accuracy\")\n",
    "\n",
    "mdl = clf.fit(X_train, y_train)\n",
    "\n",
    "mdl.best_estimator_.get_params()"
   ]
  },
  {
   "cell_type": "code",
   "execution_count": 35,
   "id": "b47f5420",
   "metadata": {},
   "outputs": [],
   "source": [
    "scaler = StandardScaler()\n",
    "scaler.fit(X_train)\n",
    "X_trainStandard = scaler.transform(X_train)\n",
    "X_testStandard = scaler.transform(X_test)"
   ]
  },
  {
   "cell_type": "code",
   "execution_count": 36,
   "id": "e814c38d",
   "metadata": {},
   "outputs": [
    {
     "name": "stdout",
     "output_type": "stream",
     "text": [
      "Accuracy: 0.6722560975609756\n"
     ]
    }
   ],
   "source": [
    "mdl= RandomForestClassifier(max_features=7, n_estimators=200, random_state=42,oob_score=True)\n",
    "mdl.fit(X_trainStandard,y_train)\n",
    "ypred=mdl.predict(X_testStandard)\n",
    "print(\"Accuracy:\",accuracy_score(y_test, ypred))"
   ]
  },
  {
   "cell_type": "code",
   "execution_count": 37,
   "id": "3ce5fe8e",
   "metadata": {},
   "outputs": [
    {
     "data": {
      "text/html": [
       "<div>\n",
       "<style scoped>\n",
       "    .dataframe tbody tr th:only-of-type {\n",
       "        vertical-align: middle;\n",
       "    }\n",
       "\n",
       "    .dataframe tbody tr th {\n",
       "        vertical-align: top;\n",
       "    }\n",
       "\n",
       "    .dataframe thead th {\n",
       "        text-align: right;\n",
       "    }\n",
       "</style>\n",
       "<table border=\"1\" class=\"dataframe\">\n",
       "  <thead>\n",
       "    <tr style=\"text-align: right;\">\n",
       "      <th></th>\n",
       "      <th>Accuracy</th>\n",
       "    </tr>\n",
       "  </thead>\n",
       "  <tbody>\n",
       "    <tr>\n",
       "      <th>DropNA-RFC</th>\n",
       "      <td>0.602134</td>\n",
       "    </tr>\n",
       "    <tr>\n",
       "      <th>DropNA-KNN</th>\n",
       "      <td>0.585366</td>\n",
       "    </tr>\n",
       "    <tr>\n",
       "      <th>DropNA-LR</th>\n",
       "      <td>0.609756</td>\n",
       "    </tr>\n",
       "    <tr>\n",
       "      <th>FillMean-RFC</th>\n",
       "      <td>0.672256</td>\n",
       "    </tr>\n",
       "  </tbody>\n",
       "</table>\n",
       "</div>"
      ],
      "text/plain": [
       "              Accuracy\n",
       "DropNA-RFC    0.602134\n",
       "DropNA-KNN    0.585366\n",
       "DropNA-LR     0.609756\n",
       "FillMean-RFC  0.672256"
      ]
     },
     "execution_count": 37,
     "metadata": {},
     "output_type": "execute_result"
    }
   ],
   "source": [
    "\n",
    "results.loc[\"FillMean-RFC\"] = [accuracy_score(y_test, ypred)]\n",
    "results"
   ]
  },
  {
   "cell_type": "markdown",
   "id": "1bef621b",
   "metadata": {},
   "source": [
    "## KNN ile model kurulması"
   ]
  },
  {
   "cell_type": "code",
   "execution_count": 77,
   "id": "9d5a6d0f",
   "metadata": {},
   "outputs": [],
   "source": [
    "X_train,X_test,y_train,y_test=train_test_split(X,y,test_size=0.2,random_state=42,stratify=y)"
   ]
  },
  {
   "cell_type": "code",
   "execution_count": 201,
   "id": "738e5c4e",
   "metadata": {},
   "outputs": [
    {
     "data": {
      "text/plain": [
       "{'memory': None,\n",
       " 'steps': [('scaler', StandardScaler()),\n",
       "  ('Classifier', KNeighborsClassifier(n_neighbors=4))],\n",
       " 'verbose': False,\n",
       " 'scaler': StandardScaler(),\n",
       " 'Classifier': KNeighborsClassifier(n_neighbors=4),\n",
       " 'scaler__copy': True,\n",
       " 'scaler__with_mean': True,\n",
       " 'scaler__with_std': True,\n",
       " 'Classifier__algorithm': 'auto',\n",
       " 'Classifier__leaf_size': 30,\n",
       " 'Classifier__metric': 'minkowski',\n",
       " 'Classifier__metric_params': None,\n",
       " 'Classifier__n_jobs': None,\n",
       " 'Classifier__n_neighbors': 4,\n",
       " 'Classifier__p': 2,\n",
       " 'Classifier__weights': 'uniform'}"
      ]
     },
     "execution_count": 201,
     "metadata": {},
     "output_type": "execute_result"
    }
   ],
   "source": [
    "mdl=KNeighborsClassifier()\n",
    "\n",
    "pipe = Pipeline([('scaler', StandardScaler()),('Classifier',KNeighborsClassifier())])\n",
    "\n",
    "search_space = [{'Classifier': [KNeighborsClassifier()],\n",
    "                 'Classifier__n_neighbors':np.arange(1,10)}]\n",
    "\n",
    "\n",
    "clf = GridSearchCV(pipe, search_space, cv=StratifiedKFold(n_splits=5,shuffle=True,random_state=3), \n",
    "                verbose=0,scoring=\"accuracy\")\n",
    "\n",
    "mdl = clf.fit(X_train, y_train)\n",
    "\n",
    "mdl.best_estimator_.get_params()"
   ]
  },
  {
   "cell_type": "code",
   "execution_count": 38,
   "id": "37a19e22",
   "metadata": {},
   "outputs": [],
   "source": [
    "scaler = StandardScaler()\n",
    "scaler.fit(X_train)\n",
    "X_trainStandard = scaler.transform(X_train)\n",
    "X_testStandard = scaler.transform(X_test)"
   ]
  },
  {
   "cell_type": "code",
   "execution_count": 39,
   "id": "efa3e505",
   "metadata": {},
   "outputs": [
    {
     "name": "stdout",
     "output_type": "stream",
     "text": [
      "Accuracy: 0.6387195121951219\n"
     ]
    }
   ],
   "source": [
    "knn = KNeighborsClassifier(n_neighbors=4)\n",
    "knn.fit(X_trainStandard,y_train)\n",
    "ypred=knn.predict(X_testStandard)\n",
    "print(\"Accuracy:\",accuracy_score(y_test, ypred))"
   ]
  },
  {
   "cell_type": "code",
   "execution_count": 40,
   "id": "cd71a410",
   "metadata": {
    "scrolled": true
   },
   "outputs": [
    {
     "data": {
      "text/html": [
       "<div>\n",
       "<style scoped>\n",
       "    .dataframe tbody tr th:only-of-type {\n",
       "        vertical-align: middle;\n",
       "    }\n",
       "\n",
       "    .dataframe tbody tr th {\n",
       "        vertical-align: top;\n",
       "    }\n",
       "\n",
       "    .dataframe thead th {\n",
       "        text-align: right;\n",
       "    }\n",
       "</style>\n",
       "<table border=\"1\" class=\"dataframe\">\n",
       "  <thead>\n",
       "    <tr style=\"text-align: right;\">\n",
       "      <th></th>\n",
       "      <th>Accuracy</th>\n",
       "    </tr>\n",
       "  </thead>\n",
       "  <tbody>\n",
       "    <tr>\n",
       "      <th>DropNA-RFC</th>\n",
       "      <td>0.602134</td>\n",
       "    </tr>\n",
       "    <tr>\n",
       "      <th>DropNA-KNN</th>\n",
       "      <td>0.585366</td>\n",
       "    </tr>\n",
       "    <tr>\n",
       "      <th>DropNA-LR</th>\n",
       "      <td>0.609756</td>\n",
       "    </tr>\n",
       "    <tr>\n",
       "      <th>FillMean-RFC</th>\n",
       "      <td>0.672256</td>\n",
       "    </tr>\n",
       "    <tr>\n",
       "      <th>FillMean-KNN</th>\n",
       "      <td>0.638720</td>\n",
       "    </tr>\n",
       "  </tbody>\n",
       "</table>\n",
       "</div>"
      ],
      "text/plain": [
       "              Accuracy\n",
       "DropNA-RFC    0.602134\n",
       "DropNA-KNN    0.585366\n",
       "DropNA-LR     0.609756\n",
       "FillMean-RFC  0.672256\n",
       "FillMean-KNN  0.638720"
      ]
     },
     "execution_count": 40,
     "metadata": {},
     "output_type": "execute_result"
    }
   ],
   "source": [
    "results.loc[\"FillMean-KNN\"] = [accuracy_score(y_test, ypred)]\n",
    "results"
   ]
  },
  {
   "cell_type": "markdown",
   "id": "a43cdc12",
   "metadata": {},
   "source": [
    "## logisticRegression ile model kurulması"
   ]
  },
  {
   "cell_type": "code",
   "execution_count": 224,
   "id": "58c16ae3",
   "metadata": {},
   "outputs": [],
   "source": [
    "X_train,X_test,y_train,y_test=train_test_split(X,y,test_size=0.2,random_state=42,stratify=y)"
   ]
  },
  {
   "cell_type": "code",
   "execution_count": 225,
   "id": "eb0224fc",
   "metadata": {},
   "outputs": [
    {
     "data": {
      "text/plain": [
       "{'memory': None,\n",
       " 'steps': [('scaler', StandardScaler()),\n",
       "  ('Classifier',\n",
       "   LogisticRegression(C=0.015199110829529346, solver='liblinear'))],\n",
       " 'verbose': False,\n",
       " 'scaler': StandardScaler(),\n",
       " 'Classifier': LogisticRegression(C=0.015199110829529346, solver='liblinear'),\n",
       " 'scaler__copy': True,\n",
       " 'scaler__with_mean': True,\n",
       " 'scaler__with_std': True,\n",
       " 'Classifier__C': 0.015199110829529346,\n",
       " 'Classifier__class_weight': None,\n",
       " 'Classifier__dual': False,\n",
       " 'Classifier__fit_intercept': True,\n",
       " 'Classifier__intercept_scaling': 1,\n",
       " 'Classifier__l1_ratio': None,\n",
       " 'Classifier__max_iter': 100,\n",
       " 'Classifier__multi_class': 'auto',\n",
       " 'Classifier__n_jobs': None,\n",
       " 'Classifier__penalty': 'l2',\n",
       " 'Classifier__random_state': None,\n",
       " 'Classifier__solver': 'liblinear',\n",
       " 'Classifier__tol': 0.0001,\n",
       " 'Classifier__verbose': 0,\n",
       " 'Classifier__warm_start': False}"
      ]
     },
     "execution_count": 225,
     "metadata": {},
     "output_type": "execute_result"
    }
   ],
   "source": [
    "mdl=LogisticRegression()\n",
    "\n",
    "pipe = Pipeline([('scaler', StandardScaler()),('Classifier',LogisticRegression())])\n",
    "\n",
    "search_space = [{'Classifier': [LogisticRegression(solver='liblinear')],\n",
    "                 'Classifier__C': np.logspace(-4, 4, 100),\n",
    "                 'Classifier__penalty':['l1','l2']}]\n",
    "\n",
    " \n",
    "clf = GridSearchCV(pipe, search_space, cv=StratifiedKFold(n_splits=5,shuffle=True,random_state=3), \n",
    "                verbose=0,scoring=\"accuracy\")\n",
    "\n",
    "mdl = clf.fit(X_train, y_train)\n",
    "\n",
    "mdl.best_estimator_.get_params()"
   ]
  },
  {
   "cell_type": "code",
   "execution_count": 41,
   "id": "2b1ef8a9",
   "metadata": {},
   "outputs": [],
   "source": [
    "scaler = StandardScaler()\n",
    "scaler.fit(X_train)\n",
    "X_trainStandard = scaler.transform(X_train)\n",
    "X_testStandard = scaler.transform(X_test)"
   ]
  },
  {
   "cell_type": "code",
   "execution_count": 42,
   "id": "66205800",
   "metadata": {},
   "outputs": [
    {
     "name": "stdout",
     "output_type": "stream",
     "text": [
      "Accuracy: 0.6097560975609756\n"
     ]
    }
   ],
   "source": [
    "mdl=LogisticRegression(solver=\"liblinear\",max_iter=1000,C=0.015199110829529346,penalty=\"l2\")\n",
    "mdl.fit(X_trainStandard,y_train)\n",
    "ypred=mdl.predict(X_testStandard)\n",
    "print(\"Accuracy:\",accuracy_score(y_test, ypred))"
   ]
  },
  {
   "cell_type": "code",
   "execution_count": 43,
   "id": "9afaaa29",
   "metadata": {},
   "outputs": [
    {
     "data": {
      "text/html": [
       "<div>\n",
       "<style scoped>\n",
       "    .dataframe tbody tr th:only-of-type {\n",
       "        vertical-align: middle;\n",
       "    }\n",
       "\n",
       "    .dataframe tbody tr th {\n",
       "        vertical-align: top;\n",
       "    }\n",
       "\n",
       "    .dataframe thead th {\n",
       "        text-align: right;\n",
       "    }\n",
       "</style>\n",
       "<table border=\"1\" class=\"dataframe\">\n",
       "  <thead>\n",
       "    <tr style=\"text-align: right;\">\n",
       "      <th></th>\n",
       "      <th>Accuracy</th>\n",
       "    </tr>\n",
       "  </thead>\n",
       "  <tbody>\n",
       "    <tr>\n",
       "      <th>DropNA-RFC</th>\n",
       "      <td>0.602134</td>\n",
       "    </tr>\n",
       "    <tr>\n",
       "      <th>DropNA-KNN</th>\n",
       "      <td>0.585366</td>\n",
       "    </tr>\n",
       "    <tr>\n",
       "      <th>DropNA-LR</th>\n",
       "      <td>0.609756</td>\n",
       "    </tr>\n",
       "    <tr>\n",
       "      <th>FillMean-RFC</th>\n",
       "      <td>0.672256</td>\n",
       "    </tr>\n",
       "    <tr>\n",
       "      <th>FillMean-KNN</th>\n",
       "      <td>0.638720</td>\n",
       "    </tr>\n",
       "    <tr>\n",
       "      <th>FillMean-LR</th>\n",
       "      <td>0.609756</td>\n",
       "    </tr>\n",
       "  </tbody>\n",
       "</table>\n",
       "</div>"
      ],
      "text/plain": [
       "              Accuracy\n",
       "DropNA-RFC    0.602134\n",
       "DropNA-KNN    0.585366\n",
       "DropNA-LR     0.609756\n",
       "FillMean-RFC  0.672256\n",
       "FillMean-KNN  0.638720\n",
       "FillMean-LR   0.609756"
      ]
     },
     "execution_count": 43,
     "metadata": {},
     "output_type": "execute_result"
    }
   ],
   "source": [
    "results.loc[\"FillMean-LR\"] = [accuracy_score(y_test, ypred)]\n",
    "results"
   ]
  },
  {
   "cell_type": "markdown",
   "id": "1b115d4d",
   "metadata": {},
   "source": [
    "## fillna(mean) Summary\n",
    "\n",
    "Eksik verilerin mean değerlerle doldurulması durumunda 3 modelden en iyi RandomForestClassifier ile sonuç aldık"
   ]
  },
  {
   "cell_type": "markdown",
   "id": "ccf012fe",
   "metadata": {},
   "source": [
    "## EKSİK VERİLERİN YERİNİN MEDIAN DEĞER İLE DOLDURULMASI"
   ]
  },
  {
   "cell_type": "code",
   "execution_count": 58,
   "id": "5e9dfd87",
   "metadata": {},
   "outputs": [
    {
     "data": {
      "text/plain": [
       "7.036752103833548"
      ]
     },
     "execution_count": 58,
     "metadata": {},
     "output_type": "execute_result"
    }
   ],
   "source": [
    "df.ph.median()"
   ]
  },
  {
   "cell_type": "code",
   "execution_count": 59,
   "id": "a71c3197",
   "metadata": {},
   "outputs": [],
   "source": [
    "df[\"ph\"]=df.ph.fillna(df.ph.median())"
   ]
  },
  {
   "cell_type": "code",
   "execution_count": 60,
   "id": "8e3b21a9",
   "metadata": {},
   "outputs": [
    {
     "data": {
      "text/plain": [
       "0"
      ]
     },
     "execution_count": 60,
     "metadata": {},
     "output_type": "execute_result"
    }
   ],
   "source": [
    "df.ph.isna().sum()"
   ]
  },
  {
   "cell_type": "code",
   "execution_count": 61,
   "id": "2fe6120f",
   "metadata": {},
   "outputs": [],
   "source": [
    "df[\"Sulfate\"]=df.Sulfate.fillna(df.Sulfate.median())"
   ]
  },
  {
   "cell_type": "code",
   "execution_count": 62,
   "id": "35037dfa",
   "metadata": {},
   "outputs": [
    {
     "data": {
      "text/plain": [
       "0"
      ]
     },
     "execution_count": 62,
     "metadata": {},
     "output_type": "execute_result"
    }
   ],
   "source": [
    "df.Sulfate.isna().sum()"
   ]
  },
  {
   "cell_type": "code",
   "execution_count": 63,
   "id": "cef0bfef",
   "metadata": {},
   "outputs": [],
   "source": [
    "df[\"Trihalomethanes\"]=df.Trihalomethanes.fillna(df.Trihalomethanes.median())"
   ]
  },
  {
   "cell_type": "code",
   "execution_count": 64,
   "id": "280b824c",
   "metadata": {},
   "outputs": [
    {
     "data": {
      "text/plain": [
       "0"
      ]
     },
     "execution_count": 64,
     "metadata": {},
     "output_type": "execute_result"
    }
   ],
   "source": [
    "df.Trihalomethanes.isna().sum()"
   ]
  },
  {
   "cell_type": "code",
   "execution_count": 65,
   "id": "2a83374e",
   "metadata": {},
   "outputs": [],
   "source": [
    "X=df.drop(\"Potability\",axis=1)\n",
    "y=df.Potability"
   ]
  },
  {
   "cell_type": "markdown",
   "id": "347e024c",
   "metadata": {},
   "source": [
    "## RandomForestClassifier ile model kurulması"
   ]
  },
  {
   "cell_type": "code",
   "execution_count": 66,
   "id": "2ad98581",
   "metadata": {},
   "outputs": [],
   "source": [
    "X_train,X_test,y_train,y_test=train_test_split(X,y,test_size=0.2,random_state=42,stratify=y)"
   ]
  },
  {
   "cell_type": "code",
   "execution_count": 67,
   "id": "78d08c19",
   "metadata": {
    "scrolled": true
   },
   "outputs": [
    {
     "data": {
      "text/plain": [
       "{'memory': None,\n",
       " 'steps': [('scaler', StandardScaler()),\n",
       "  ('Classifier',\n",
       "   RandomForestClassifier(max_features=6, n_estimators=200, random_state=42))],\n",
       " 'verbose': False,\n",
       " 'scaler': StandardScaler(),\n",
       " 'Classifier': RandomForestClassifier(max_features=6, n_estimators=200, random_state=42),\n",
       " 'scaler__copy': True,\n",
       " 'scaler__with_mean': True,\n",
       " 'scaler__with_std': True,\n",
       " 'Classifier__bootstrap': True,\n",
       " 'Classifier__ccp_alpha': 0.0,\n",
       " 'Classifier__class_weight': None,\n",
       " 'Classifier__criterion': 'gini',\n",
       " 'Classifier__max_depth': None,\n",
       " 'Classifier__max_features': 6,\n",
       " 'Classifier__max_leaf_nodes': None,\n",
       " 'Classifier__max_samples': None,\n",
       " 'Classifier__min_impurity_decrease': 0.0,\n",
       " 'Classifier__min_samples_leaf': 1,\n",
       " 'Classifier__min_samples_split': 2,\n",
       " 'Classifier__min_weight_fraction_leaf': 0.0,\n",
       " 'Classifier__n_estimators': 200,\n",
       " 'Classifier__n_jobs': None,\n",
       " 'Classifier__oob_score': False,\n",
       " 'Classifier__random_state': 42,\n",
       " 'Classifier__verbose': 0,\n",
       " 'Classifier__warm_start': False}"
      ]
     },
     "execution_count": 67,
     "metadata": {},
     "output_type": "execute_result"
    }
   ],
   "source": [
    "mdl=RandomForestClassifier()\n",
    "\n",
    "pipe = Pipeline([('scaler', StandardScaler()),('Classifier',RandomForestClassifier())])\n",
    "\n",
    "search_space = [{'Classifier': [RandomForestClassifier(random_state=42)],\n",
    "                 'Classifier__n_estimators': [200,300,400,500],\n",
    "                 'Classifier__max_features': np.arange(1,10)}]\n",
    "\n",
    "clf = GridSearchCV(pipe, search_space, cv=StratifiedKFold(n_splits=5,shuffle=True,random_state=3), \n",
    "                verbose=0,scoring=\"accuracy\")\n",
    "\n",
    "mdl = clf.fit(X_train, y_train)\n",
    "\n",
    "mdl.best_estimator_.get_params()"
   ]
  },
  {
   "cell_type": "code",
   "execution_count": 68,
   "id": "534ad144",
   "metadata": {},
   "outputs": [],
   "source": [
    "scaler = StandardScaler()\n",
    "scaler.fit(X_train)\n",
    "X_trainStandard = scaler.transform(X_train)\n",
    "X_testStandard = scaler.transform(X_test)"
   ]
  },
  {
   "cell_type": "code",
   "execution_count": 69,
   "id": "41f3d2f1",
   "metadata": {},
   "outputs": [
    {
     "name": "stdout",
     "output_type": "stream",
     "text": [
      "Accuracy: 0.6646341463414634\n"
     ]
    }
   ],
   "source": [
    "mdl= RandomForestClassifier(max_features=6, n_estimators=200, random_state=42,oob_score=True)\n",
    "mdl.fit(X_trainStandard,y_train)\n",
    "ypred=mdl.predict(X_testStandard)\n",
    "print(\"Accuracy:\",accuracy_score(y_test, ypred))"
   ]
  },
  {
   "cell_type": "code",
   "execution_count": 70,
   "id": "7d623489",
   "metadata": {},
   "outputs": [
    {
     "data": {
      "text/html": [
       "<div>\n",
       "<style scoped>\n",
       "    .dataframe tbody tr th:only-of-type {\n",
       "        vertical-align: middle;\n",
       "    }\n",
       "\n",
       "    .dataframe tbody tr th {\n",
       "        vertical-align: top;\n",
       "    }\n",
       "\n",
       "    .dataframe thead th {\n",
       "        text-align: right;\n",
       "    }\n",
       "</style>\n",
       "<table border=\"1\" class=\"dataframe\">\n",
       "  <thead>\n",
       "    <tr style=\"text-align: right;\">\n",
       "      <th></th>\n",
       "      <th>Accuracy</th>\n",
       "    </tr>\n",
       "  </thead>\n",
       "  <tbody>\n",
       "    <tr>\n",
       "      <th>DropNA-RFC</th>\n",
       "      <td>0.602134</td>\n",
       "    </tr>\n",
       "    <tr>\n",
       "      <th>DropNA-KNN</th>\n",
       "      <td>0.585366</td>\n",
       "    </tr>\n",
       "    <tr>\n",
       "      <th>DropNA-LR</th>\n",
       "      <td>0.609756</td>\n",
       "    </tr>\n",
       "    <tr>\n",
       "      <th>FillMean-RFC</th>\n",
       "      <td>0.672256</td>\n",
       "    </tr>\n",
       "    <tr>\n",
       "      <th>FillMean-KNN</th>\n",
       "      <td>0.638720</td>\n",
       "    </tr>\n",
       "    <tr>\n",
       "      <th>FillMean-LR</th>\n",
       "      <td>0.609756</td>\n",
       "    </tr>\n",
       "    <tr>\n",
       "      <th>FillMedian-RFC</th>\n",
       "      <td>0.664634</td>\n",
       "    </tr>\n",
       "  </tbody>\n",
       "</table>\n",
       "</div>"
      ],
      "text/plain": [
       "                Accuracy\n",
       "DropNA-RFC      0.602134\n",
       "DropNA-KNN      0.585366\n",
       "DropNA-LR       0.609756\n",
       "FillMean-RFC    0.672256\n",
       "FillMean-KNN    0.638720\n",
       "FillMean-LR     0.609756\n",
       "FillMedian-RFC  0.664634"
      ]
     },
     "execution_count": 70,
     "metadata": {},
     "output_type": "execute_result"
    }
   ],
   "source": [
    "results.loc[\"FillMedian-RFC\"] = [accuracy_score(y_test, ypred)]\n",
    "results"
   ]
  },
  {
   "cell_type": "markdown",
   "id": "ddc9a994",
   "metadata": {},
   "source": [
    "## KNeighborsClassifier ile Model kurulması"
   ]
  },
  {
   "cell_type": "code",
   "execution_count": 109,
   "id": "a28fe765",
   "metadata": {},
   "outputs": [],
   "source": [
    "X_train,X_test,y_train,y_test=train_test_split(X,y,test_size=0.2,random_state=42,stratify=y)"
   ]
  },
  {
   "cell_type": "code",
   "execution_count": 71,
   "id": "3500b522",
   "metadata": {},
   "outputs": [
    {
     "data": {
      "text/plain": [
       "{'memory': None,\n",
       " 'steps': [('scaler', StandardScaler()),\n",
       "  ('Classifier', KNeighborsClassifier(n_neighbors=4))],\n",
       " 'verbose': False,\n",
       " 'scaler': StandardScaler(),\n",
       " 'Classifier': KNeighborsClassifier(n_neighbors=4),\n",
       " 'scaler__copy': True,\n",
       " 'scaler__with_mean': True,\n",
       " 'scaler__with_std': True,\n",
       " 'Classifier__algorithm': 'auto',\n",
       " 'Classifier__leaf_size': 30,\n",
       " 'Classifier__metric': 'minkowski',\n",
       " 'Classifier__metric_params': None,\n",
       " 'Classifier__n_jobs': None,\n",
       " 'Classifier__n_neighbors': 4,\n",
       " 'Classifier__p': 2,\n",
       " 'Classifier__weights': 'uniform'}"
      ]
     },
     "execution_count": 71,
     "metadata": {},
     "output_type": "execute_result"
    }
   ],
   "source": [
    "mdl=KNeighborsClassifier()\n",
    "\n",
    "pipe = Pipeline([('scaler', StandardScaler()),('Classifier',KNeighborsClassifier())])\n",
    "\n",
    "search_space = [{'Classifier': [KNeighborsClassifier()],\n",
    "                 'Classifier__n_neighbors':np.arange(1,10)}]\n",
    " \n",
    "clf = GridSearchCV(pipe, search_space, cv=StratifiedKFold(n_splits=5,shuffle=True,random_state=3), \n",
    "                verbose=0,scoring=\"accuracy\")\n",
    "\n",
    "mdl = clf.fit(X_train, y_train)\n",
    "\n",
    "mdl.best_estimator_.get_params()"
   ]
  },
  {
   "cell_type": "code",
   "execution_count": 72,
   "id": "2061f93f",
   "metadata": {},
   "outputs": [],
   "source": [
    "scaler = StandardScaler()\n",
    "scaler.fit(X_train)\n",
    "X_trainStandard = scaler.transform(X_train)\n",
    "X_testStandard = scaler.transform(X_test)"
   ]
  },
  {
   "cell_type": "code",
   "execution_count": 73,
   "id": "0033addd",
   "metadata": {},
   "outputs": [
    {
     "name": "stdout",
     "output_type": "stream",
     "text": [
      "Accuracy: 0.6402439024390244\n"
     ]
    }
   ],
   "source": [
    "knn = KNeighborsClassifier(n_neighbors=4)\n",
    "knn.fit(X_trainStandard,y_train)\n",
    "ypred=knn.predict(X_testStandard)\n",
    "print(\"Accuracy:\",accuracy_score(y_test, ypred))"
   ]
  },
  {
   "cell_type": "code",
   "execution_count": 74,
   "id": "c022d18a",
   "metadata": {},
   "outputs": [
    {
     "data": {
      "text/html": [
       "<div>\n",
       "<style scoped>\n",
       "    .dataframe tbody tr th:only-of-type {\n",
       "        vertical-align: middle;\n",
       "    }\n",
       "\n",
       "    .dataframe tbody tr th {\n",
       "        vertical-align: top;\n",
       "    }\n",
       "\n",
       "    .dataframe thead th {\n",
       "        text-align: right;\n",
       "    }\n",
       "</style>\n",
       "<table border=\"1\" class=\"dataframe\">\n",
       "  <thead>\n",
       "    <tr style=\"text-align: right;\">\n",
       "      <th></th>\n",
       "      <th>Accuracy</th>\n",
       "    </tr>\n",
       "  </thead>\n",
       "  <tbody>\n",
       "    <tr>\n",
       "      <th>DropNA-RFC</th>\n",
       "      <td>0.602134</td>\n",
       "    </tr>\n",
       "    <tr>\n",
       "      <th>DropNA-KNN</th>\n",
       "      <td>0.585366</td>\n",
       "    </tr>\n",
       "    <tr>\n",
       "      <th>DropNA-LR</th>\n",
       "      <td>0.609756</td>\n",
       "    </tr>\n",
       "    <tr>\n",
       "      <th>FillMean-RFC</th>\n",
       "      <td>0.672256</td>\n",
       "    </tr>\n",
       "    <tr>\n",
       "      <th>FillMean-KNN</th>\n",
       "      <td>0.638720</td>\n",
       "    </tr>\n",
       "    <tr>\n",
       "      <th>FillMean-LR</th>\n",
       "      <td>0.609756</td>\n",
       "    </tr>\n",
       "    <tr>\n",
       "      <th>FillMedian-RFC</th>\n",
       "      <td>0.664634</td>\n",
       "    </tr>\n",
       "    <tr>\n",
       "      <th>FillMedian-KNN</th>\n",
       "      <td>0.640244</td>\n",
       "    </tr>\n",
       "  </tbody>\n",
       "</table>\n",
       "</div>"
      ],
      "text/plain": [
       "                Accuracy\n",
       "DropNA-RFC      0.602134\n",
       "DropNA-KNN      0.585366\n",
       "DropNA-LR       0.609756\n",
       "FillMean-RFC    0.672256\n",
       "FillMean-KNN    0.638720\n",
       "FillMean-LR     0.609756\n",
       "FillMedian-RFC  0.664634\n",
       "FillMedian-KNN  0.640244"
      ]
     },
     "execution_count": 74,
     "metadata": {},
     "output_type": "execute_result"
    }
   ],
   "source": [
    "results.loc[\"FillMedian-KNN\"] = [accuracy_score(y_test, ypred)]\n",
    "results"
   ]
  },
  {
   "cell_type": "markdown",
   "id": "b4baa650",
   "metadata": {},
   "source": [
    "## LogisticRegression ile Model Kurulması"
   ]
  },
  {
   "cell_type": "code",
   "execution_count": 114,
   "id": "88358c41",
   "metadata": {},
   "outputs": [],
   "source": [
    "X_train,X_test,y_train,y_test=train_test_split(X,y,test_size=0.2,random_state=42,stratify=y)"
   ]
  },
  {
   "cell_type": "code",
   "execution_count": 81,
   "id": "16c32773",
   "metadata": {},
   "outputs": [
    {
     "data": {
      "text/plain": [
       "{'memory': None,\n",
       " 'steps': [('scaler', StandardScaler()),\n",
       "  ('Classifier',\n",
       "   LogisticRegression(C=0.014174741629268055, solver='liblinear'))],\n",
       " 'verbose': False,\n",
       " 'scaler': StandardScaler(),\n",
       " 'Classifier': LogisticRegression(C=0.014174741629268055, solver='liblinear'),\n",
       " 'scaler__copy': True,\n",
       " 'scaler__with_mean': True,\n",
       " 'scaler__with_std': True,\n",
       " 'Classifier__C': 0.014174741629268055,\n",
       " 'Classifier__class_weight': None,\n",
       " 'Classifier__dual': False,\n",
       " 'Classifier__fit_intercept': True,\n",
       " 'Classifier__intercept_scaling': 1,\n",
       " 'Classifier__l1_ratio': None,\n",
       " 'Classifier__max_iter': 100,\n",
       " 'Classifier__multi_class': 'auto',\n",
       " 'Classifier__n_jobs': None,\n",
       " 'Classifier__penalty': 'l2',\n",
       " 'Classifier__random_state': None,\n",
       " 'Classifier__solver': 'liblinear',\n",
       " 'Classifier__tol': 0.0001,\n",
       " 'Classifier__verbose': 0,\n",
       " 'Classifier__warm_start': False}"
      ]
     },
     "execution_count": 81,
     "metadata": {},
     "output_type": "execute_result"
    }
   ],
   "source": [
    "mdl=LogisticRegression()\n",
    "\n",
    "pipe = Pipeline([('scaler', StandardScaler()),('Classifier',LogisticRegression())])\n",
    "\n",
    "search_space = [{'Classifier': [LogisticRegression(solver='liblinear')],\n",
    "                 'Classifier__C': np.logspace(-3, 3, 100),\n",
    "                 'Classifier__penalty':['l1','l2']}]\n",
    "\n",
    "\n",
    "clf = GridSearchCV(pipe, search_space, cv=StratifiedKFold(n_splits=5,shuffle=True,random_state=3), \n",
    "                verbose=0,scoring=\"accuracy\")\n",
    "\n",
    "mdl = clf.fit(X_train, y_train)\n",
    "\n",
    "mdl.best_estimator_.get_params()"
   ]
  },
  {
   "cell_type": "code",
   "execution_count": 82,
   "id": "88dd15c4",
   "metadata": {},
   "outputs": [],
   "source": [
    "scaler = StandardScaler()\n",
    "scaler.fit(X_train)\n",
    "X_trainStandard = scaler.transform(X_train)\n",
    "X_testStandard = scaler.transform(X_test)"
   ]
  },
  {
   "cell_type": "code",
   "execution_count": 83,
   "id": "5dd54283",
   "metadata": {},
   "outputs": [
    {
     "name": "stdout",
     "output_type": "stream",
     "text": [
      "Accuracy: 0.6097560975609756\n"
     ]
    }
   ],
   "source": [
    "mdl=LogisticRegression(solver=\"liblinear\",max_iter=1000,C=0.014174741629268055,penalty=\"l2\")\n",
    "mdl.fit(X_trainStandard,y_train)\n",
    "ypred=mdl.predict(X_testStandard)\n",
    "print(\"Accuracy:\",accuracy_score(y_test, ypred))"
   ]
  },
  {
   "cell_type": "code",
   "execution_count": 80,
   "id": "7f24ab2e",
   "metadata": {},
   "outputs": [
    {
     "data": {
      "text/html": [
       "<div>\n",
       "<style scoped>\n",
       "    .dataframe tbody tr th:only-of-type {\n",
       "        vertical-align: middle;\n",
       "    }\n",
       "\n",
       "    .dataframe tbody tr th {\n",
       "        vertical-align: top;\n",
       "    }\n",
       "\n",
       "    .dataframe thead th {\n",
       "        text-align: right;\n",
       "    }\n",
       "</style>\n",
       "<table border=\"1\" class=\"dataframe\">\n",
       "  <thead>\n",
       "    <tr style=\"text-align: right;\">\n",
       "      <th></th>\n",
       "      <th>Accuracy</th>\n",
       "    </tr>\n",
       "  </thead>\n",
       "  <tbody>\n",
       "    <tr>\n",
       "      <th>DropNA-RFC</th>\n",
       "      <td>0.602134</td>\n",
       "    </tr>\n",
       "    <tr>\n",
       "      <th>DropNA-KNN</th>\n",
       "      <td>0.585366</td>\n",
       "    </tr>\n",
       "    <tr>\n",
       "      <th>DropNA-LR</th>\n",
       "      <td>0.609756</td>\n",
       "    </tr>\n",
       "    <tr>\n",
       "      <th>FillMean-RFC</th>\n",
       "      <td>0.672256</td>\n",
       "    </tr>\n",
       "    <tr>\n",
       "      <th>FillMean-KNN</th>\n",
       "      <td>0.638720</td>\n",
       "    </tr>\n",
       "    <tr>\n",
       "      <th>FillMean-LR</th>\n",
       "      <td>0.609756</td>\n",
       "    </tr>\n",
       "    <tr>\n",
       "      <th>FillMedian-RFC</th>\n",
       "      <td>0.664634</td>\n",
       "    </tr>\n",
       "    <tr>\n",
       "      <th>FillMedian-KNN</th>\n",
       "      <td>0.640244</td>\n",
       "    </tr>\n",
       "    <tr>\n",
       "      <th>FillMedian-LR</th>\n",
       "      <td>0.609756</td>\n",
       "    </tr>\n",
       "  </tbody>\n",
       "</table>\n",
       "</div>"
      ],
      "text/plain": [
       "                Accuracy\n",
       "DropNA-RFC      0.602134\n",
       "DropNA-KNN      0.585366\n",
       "DropNA-LR       0.609756\n",
       "FillMean-RFC    0.672256\n",
       "FillMean-KNN    0.638720\n",
       "FillMean-LR     0.609756\n",
       "FillMedian-RFC  0.664634\n",
       "FillMedian-KNN  0.640244\n",
       "FillMedian-LR   0.609756"
      ]
     },
     "execution_count": 80,
     "metadata": {},
     "output_type": "execute_result"
    }
   ],
   "source": [
    "results.loc[\"FillMedian-LR\"] = [accuracy_score(y_test, ypred)]\n",
    "results"
   ]
  },
  {
   "cell_type": "markdown",
   "id": "8759b870",
   "metadata": {},
   "source": [
    "## fillna(median) Summary\n",
    "\n",
    "Eksik verilerin yerine median değerlerin konulması durumunda 3 modelden en iyi sonucu Random Forest Classifier ile elde ettik."
   ]
  },
  {
   "cell_type": "markdown",
   "id": "9e0e821d",
   "metadata": {},
   "source": [
    "## EKSİK VERİLERİN O İLE DOLDURULMASI\n"
   ]
  },
  {
   "cell_type": "code",
   "execution_count": 87,
   "id": "a900ef8e",
   "metadata": {},
   "outputs": [],
   "source": [
    "df[\"ph\"]=df.ph.fillna(0)\n",
    "df[\"Sulfate\"]=df.Sulfate.fillna(0)\n",
    "df[\"Trihalomethanes\"]=df.Trihalomethanes.fillna(0)"
   ]
  },
  {
   "cell_type": "code",
   "execution_count": 88,
   "id": "7624cbc6",
   "metadata": {},
   "outputs": [],
   "source": [
    "X=df.drop(\"Potability\",axis=1)\n",
    "y=df.Potability"
   ]
  },
  {
   "cell_type": "code",
   "execution_count": 89,
   "id": "4916c861",
   "metadata": {},
   "outputs": [
    {
     "data": {
      "text/html": [
       "<div>\n",
       "<style scoped>\n",
       "    .dataframe tbody tr th:only-of-type {\n",
       "        vertical-align: middle;\n",
       "    }\n",
       "\n",
       "    .dataframe tbody tr th {\n",
       "        vertical-align: top;\n",
       "    }\n",
       "\n",
       "    .dataframe thead th {\n",
       "        text-align: right;\n",
       "    }\n",
       "</style>\n",
       "<table border=\"1\" class=\"dataframe\">\n",
       "  <thead>\n",
       "    <tr style=\"text-align: right;\">\n",
       "      <th></th>\n",
       "      <th>ph</th>\n",
       "      <th>Hardness</th>\n",
       "      <th>Solids</th>\n",
       "      <th>Chloramines</th>\n",
       "      <th>Sulfate</th>\n",
       "      <th>Conductivity</th>\n",
       "      <th>Organic_carbon</th>\n",
       "      <th>Trihalomethanes</th>\n",
       "      <th>Turbidity</th>\n",
       "    </tr>\n",
       "  </thead>\n",
       "  <tbody>\n",
       "    <tr>\n",
       "      <th>0</th>\n",
       "      <td>0.000000</td>\n",
       "      <td>204.890455</td>\n",
       "      <td>20791.318981</td>\n",
       "      <td>7.300212</td>\n",
       "      <td>368.516441</td>\n",
       "      <td>564.308654</td>\n",
       "      <td>10.379783</td>\n",
       "      <td>86.990970</td>\n",
       "      <td>2.963135</td>\n",
       "    </tr>\n",
       "    <tr>\n",
       "      <th>1</th>\n",
       "      <td>3.716080</td>\n",
       "      <td>129.422921</td>\n",
       "      <td>18630.057858</td>\n",
       "      <td>6.635246</td>\n",
       "      <td>0.000000</td>\n",
       "      <td>592.885359</td>\n",
       "      <td>15.180013</td>\n",
       "      <td>56.329076</td>\n",
       "      <td>4.500656</td>\n",
       "    </tr>\n",
       "    <tr>\n",
       "      <th>2</th>\n",
       "      <td>8.099124</td>\n",
       "      <td>224.236259</td>\n",
       "      <td>19909.541732</td>\n",
       "      <td>9.275884</td>\n",
       "      <td>0.000000</td>\n",
       "      <td>418.606213</td>\n",
       "      <td>16.868637</td>\n",
       "      <td>66.420093</td>\n",
       "      <td>3.055934</td>\n",
       "    </tr>\n",
       "    <tr>\n",
       "      <th>3</th>\n",
       "      <td>8.316766</td>\n",
       "      <td>214.373394</td>\n",
       "      <td>22018.417441</td>\n",
       "      <td>8.059332</td>\n",
       "      <td>356.886136</td>\n",
       "      <td>363.266516</td>\n",
       "      <td>18.436524</td>\n",
       "      <td>100.341674</td>\n",
       "      <td>4.628771</td>\n",
       "    </tr>\n",
       "    <tr>\n",
       "      <th>4</th>\n",
       "      <td>9.092223</td>\n",
       "      <td>181.101509</td>\n",
       "      <td>17978.986339</td>\n",
       "      <td>6.546600</td>\n",
       "      <td>310.135738</td>\n",
       "      <td>398.410813</td>\n",
       "      <td>11.558279</td>\n",
       "      <td>31.997993</td>\n",
       "      <td>4.075075</td>\n",
       "    </tr>\n",
       "    <tr>\n",
       "      <th>...</th>\n",
       "      <td>...</td>\n",
       "      <td>...</td>\n",
       "      <td>...</td>\n",
       "      <td>...</td>\n",
       "      <td>...</td>\n",
       "      <td>...</td>\n",
       "      <td>...</td>\n",
       "      <td>...</td>\n",
       "      <td>...</td>\n",
       "    </tr>\n",
       "    <tr>\n",
       "      <th>3271</th>\n",
       "      <td>4.668102</td>\n",
       "      <td>193.681735</td>\n",
       "      <td>47580.991603</td>\n",
       "      <td>7.166639</td>\n",
       "      <td>359.948574</td>\n",
       "      <td>526.424171</td>\n",
       "      <td>13.894419</td>\n",
       "      <td>66.687695</td>\n",
       "      <td>4.435821</td>\n",
       "    </tr>\n",
       "    <tr>\n",
       "      <th>3272</th>\n",
       "      <td>7.808856</td>\n",
       "      <td>193.553212</td>\n",
       "      <td>17329.802160</td>\n",
       "      <td>8.061362</td>\n",
       "      <td>0.000000</td>\n",
       "      <td>392.449580</td>\n",
       "      <td>19.903225</td>\n",
       "      <td>0.000000</td>\n",
       "      <td>2.798243</td>\n",
       "    </tr>\n",
       "    <tr>\n",
       "      <th>3273</th>\n",
       "      <td>9.419510</td>\n",
       "      <td>175.762646</td>\n",
       "      <td>33155.578218</td>\n",
       "      <td>7.350233</td>\n",
       "      <td>0.000000</td>\n",
       "      <td>432.044783</td>\n",
       "      <td>11.039070</td>\n",
       "      <td>69.845400</td>\n",
       "      <td>3.298875</td>\n",
       "    </tr>\n",
       "    <tr>\n",
       "      <th>3274</th>\n",
       "      <td>5.126763</td>\n",
       "      <td>230.603758</td>\n",
       "      <td>11983.869376</td>\n",
       "      <td>6.303357</td>\n",
       "      <td>0.000000</td>\n",
       "      <td>402.883113</td>\n",
       "      <td>11.168946</td>\n",
       "      <td>77.488213</td>\n",
       "      <td>4.708658</td>\n",
       "    </tr>\n",
       "    <tr>\n",
       "      <th>3275</th>\n",
       "      <td>7.874671</td>\n",
       "      <td>195.102299</td>\n",
       "      <td>17404.177061</td>\n",
       "      <td>7.509306</td>\n",
       "      <td>0.000000</td>\n",
       "      <td>327.459760</td>\n",
       "      <td>16.140368</td>\n",
       "      <td>78.698446</td>\n",
       "      <td>2.309149</td>\n",
       "    </tr>\n",
       "  </tbody>\n",
       "</table>\n",
       "<p>3276 rows × 9 columns</p>\n",
       "</div>"
      ],
      "text/plain": [
       "            ph    Hardness        Solids  Chloramines     Sulfate  \\\n",
       "0     0.000000  204.890455  20791.318981     7.300212  368.516441   \n",
       "1     3.716080  129.422921  18630.057858     6.635246    0.000000   \n",
       "2     8.099124  224.236259  19909.541732     9.275884    0.000000   \n",
       "3     8.316766  214.373394  22018.417441     8.059332  356.886136   \n",
       "4     9.092223  181.101509  17978.986339     6.546600  310.135738   \n",
       "...        ...         ...           ...          ...         ...   \n",
       "3271  4.668102  193.681735  47580.991603     7.166639  359.948574   \n",
       "3272  7.808856  193.553212  17329.802160     8.061362    0.000000   \n",
       "3273  9.419510  175.762646  33155.578218     7.350233    0.000000   \n",
       "3274  5.126763  230.603758  11983.869376     6.303357    0.000000   \n",
       "3275  7.874671  195.102299  17404.177061     7.509306    0.000000   \n",
       "\n",
       "      Conductivity  Organic_carbon  Trihalomethanes  Turbidity  \n",
       "0       564.308654       10.379783        86.990970   2.963135  \n",
       "1       592.885359       15.180013        56.329076   4.500656  \n",
       "2       418.606213       16.868637        66.420093   3.055934  \n",
       "3       363.266516       18.436524       100.341674   4.628771  \n",
       "4       398.410813       11.558279        31.997993   4.075075  \n",
       "...            ...             ...              ...        ...  \n",
       "3271    526.424171       13.894419        66.687695   4.435821  \n",
       "3272    392.449580       19.903225         0.000000   2.798243  \n",
       "3273    432.044783       11.039070        69.845400   3.298875  \n",
       "3274    402.883113       11.168946        77.488213   4.708658  \n",
       "3275    327.459760       16.140368        78.698446   2.309149  \n",
       "\n",
       "[3276 rows x 9 columns]"
      ]
     },
     "execution_count": 89,
     "metadata": {},
     "output_type": "execute_result"
    }
   ],
   "source": [
    "X"
   ]
  },
  {
   "cell_type": "code",
   "execution_count": 90,
   "id": "bb5c3688",
   "metadata": {
    "scrolled": true
   },
   "outputs": [
    {
     "data": {
      "text/plain": [
       "0       0\n",
       "1       0\n",
       "2       0\n",
       "3       0\n",
       "4       0\n",
       "       ..\n",
       "3271    1\n",
       "3272    1\n",
       "3273    1\n",
       "3274    1\n",
       "3275    1\n",
       "Name: Potability, Length: 3276, dtype: int64"
      ]
     },
     "execution_count": 90,
     "metadata": {},
     "output_type": "execute_result"
    }
   ],
   "source": [
    "y"
   ]
  },
  {
   "cell_type": "markdown",
   "id": "78b7bb7a",
   "metadata": {},
   "source": [
    "## RandomForestClassifier ile model kurulması"
   ]
  },
  {
   "cell_type": "code",
   "execution_count": 91,
   "id": "3c7472c5",
   "metadata": {},
   "outputs": [],
   "source": [
    "X_train,X_test,y_train,y_test=train_test_split(X,y,test_size=0.2,random_state=42,stratify=y)"
   ]
  },
  {
   "cell_type": "code",
   "execution_count": 92,
   "id": "8a9226f4",
   "metadata": {},
   "outputs": [
    {
     "data": {
      "text/plain": [
       "{'memory': None,\n",
       " 'steps': [('scaler', StandardScaler()),\n",
       "  ('Classifier',\n",
       "   RandomForestClassifier(max_features=4, n_estimators=500, random_state=42))],\n",
       " 'verbose': False,\n",
       " 'scaler': StandardScaler(),\n",
       " 'Classifier': RandomForestClassifier(max_features=4, n_estimators=500, random_state=42),\n",
       " 'scaler__copy': True,\n",
       " 'scaler__with_mean': True,\n",
       " 'scaler__with_std': True,\n",
       " 'Classifier__bootstrap': True,\n",
       " 'Classifier__ccp_alpha': 0.0,\n",
       " 'Classifier__class_weight': None,\n",
       " 'Classifier__criterion': 'gini',\n",
       " 'Classifier__max_depth': None,\n",
       " 'Classifier__max_features': 4,\n",
       " 'Classifier__max_leaf_nodes': None,\n",
       " 'Classifier__max_samples': None,\n",
       " 'Classifier__min_impurity_decrease': 0.0,\n",
       " 'Classifier__min_samples_leaf': 1,\n",
       " 'Classifier__min_samples_split': 2,\n",
       " 'Classifier__min_weight_fraction_leaf': 0.0,\n",
       " 'Classifier__n_estimators': 500,\n",
       " 'Classifier__n_jobs': None,\n",
       " 'Classifier__oob_score': False,\n",
       " 'Classifier__random_state': 42,\n",
       " 'Classifier__verbose': 0,\n",
       " 'Classifier__warm_start': False}"
      ]
     },
     "execution_count": 92,
     "metadata": {},
     "output_type": "execute_result"
    }
   ],
   "source": [
    "mdl=RandomForestClassifier()\n",
    "\n",
    "pipe = Pipeline([('scaler', StandardScaler()),('Classifier',RandomForestClassifier())])\n",
    "\n",
    "search_space = [{'Classifier': [RandomForestClassifier(random_state=42)],\n",
    "                 'Classifier__n_estimators': [200,300,400,500],\n",
    "                 'Classifier__max_features': np.arange(1,10)}]\n",
    "\n",
    "\n",
    "clf = GridSearchCV(pipe, search_space, cv=StratifiedKFold(n_splits=5,shuffle=True,random_state=3), \n",
    "                verbose=0,scoring=\"accuracy\")\n",
    "\n",
    "mdl = clf.fit(X_train, y_train)\n",
    "\n",
    "mdl.best_estimator_.get_params()"
   ]
  },
  {
   "cell_type": "code",
   "execution_count": 93,
   "id": "bb10b293",
   "metadata": {},
   "outputs": [],
   "source": [
    "scaler = StandardScaler()\n",
    "scaler.fit(X_train)\n",
    "X_trainStandard = scaler.transform(X_train)\n",
    "X_testStandard = scaler.transform(X_test)"
   ]
  },
  {
   "cell_type": "code",
   "execution_count": 94,
   "id": "fe867818",
   "metadata": {},
   "outputs": [
    {
     "name": "stdout",
     "output_type": "stream",
     "text": [
      "Accuracy: 0.6707317073170732\n"
     ]
    }
   ],
   "source": [
    "mdl= RandomForestClassifier(max_features=4, n_estimators=500, random_state=42,oob_score=True)\n",
    "mdl.fit(X_trainStandard,y_train)\n",
    "ypred=mdl.predict(X_testStandard)\n",
    "print(\"Accuracy:\",accuracy_score(y_test, ypred))"
   ]
  },
  {
   "cell_type": "code",
   "execution_count": 95,
   "id": "bc17101f",
   "metadata": {},
   "outputs": [
    {
     "data": {
      "text/html": [
       "<div>\n",
       "<style scoped>\n",
       "    .dataframe tbody tr th:only-of-type {\n",
       "        vertical-align: middle;\n",
       "    }\n",
       "\n",
       "    .dataframe tbody tr th {\n",
       "        vertical-align: top;\n",
       "    }\n",
       "\n",
       "    .dataframe thead th {\n",
       "        text-align: right;\n",
       "    }\n",
       "</style>\n",
       "<table border=\"1\" class=\"dataframe\">\n",
       "  <thead>\n",
       "    <tr style=\"text-align: right;\">\n",
       "      <th></th>\n",
       "      <th>Accuracy</th>\n",
       "    </tr>\n",
       "  </thead>\n",
       "  <tbody>\n",
       "    <tr>\n",
       "      <th>DropNA-RFC</th>\n",
       "      <td>0.602134</td>\n",
       "    </tr>\n",
       "    <tr>\n",
       "      <th>DropNA-KNN</th>\n",
       "      <td>0.585366</td>\n",
       "    </tr>\n",
       "    <tr>\n",
       "      <th>DropNA-LR</th>\n",
       "      <td>0.609756</td>\n",
       "    </tr>\n",
       "    <tr>\n",
       "      <th>FillMean-RFC</th>\n",
       "      <td>0.672256</td>\n",
       "    </tr>\n",
       "    <tr>\n",
       "      <th>FillMean-KNN</th>\n",
       "      <td>0.638720</td>\n",
       "    </tr>\n",
       "    <tr>\n",
       "      <th>FillMean-LR</th>\n",
       "      <td>0.609756</td>\n",
       "    </tr>\n",
       "    <tr>\n",
       "      <th>FillMedian-RFC</th>\n",
       "      <td>0.664634</td>\n",
       "    </tr>\n",
       "    <tr>\n",
       "      <th>FillMedian-KNN</th>\n",
       "      <td>0.640244</td>\n",
       "    </tr>\n",
       "    <tr>\n",
       "      <th>FillMedian-LR</th>\n",
       "      <td>0.609756</td>\n",
       "    </tr>\n",
       "    <tr>\n",
       "      <th>FillNA(0)-RFC</th>\n",
       "      <td>0.670732</td>\n",
       "    </tr>\n",
       "  </tbody>\n",
       "</table>\n",
       "</div>"
      ],
      "text/plain": [
       "                Accuracy\n",
       "DropNA-RFC      0.602134\n",
       "DropNA-KNN      0.585366\n",
       "DropNA-LR       0.609756\n",
       "FillMean-RFC    0.672256\n",
       "FillMean-KNN    0.638720\n",
       "FillMean-LR     0.609756\n",
       "FillMedian-RFC  0.664634\n",
       "FillMedian-KNN  0.640244\n",
       "FillMedian-LR   0.609756\n",
       "FillNA(0)-RFC   0.670732"
      ]
     },
     "execution_count": 95,
     "metadata": {},
     "output_type": "execute_result"
    }
   ],
   "source": [
    "results.loc[\"FillNA(0)-RFC\"] = [accuracy_score(y_test, ypred)]\n",
    "results"
   ]
  },
  {
   "cell_type": "markdown",
   "id": "72bc2617",
   "metadata": {},
   "source": [
    "## KNeighborsClassifier ile model kurulması"
   ]
  },
  {
   "cell_type": "code",
   "execution_count": 128,
   "id": "a7c5c174",
   "metadata": {},
   "outputs": [],
   "source": [
    "X_train,X_test,y_train,y_test=train_test_split(X,y,test_size=0.2,random_state=42,stratify=y)"
   ]
  },
  {
   "cell_type": "code",
   "execution_count": 96,
   "id": "04a8e4a4",
   "metadata": {},
   "outputs": [
    {
     "data": {
      "text/plain": [
       "{'memory': None,\n",
       " 'steps': [('scaler', StandardScaler()),\n",
       "  ('Classifier', KNeighborsClassifier(n_neighbors=8))],\n",
       " 'verbose': False,\n",
       " 'scaler': StandardScaler(),\n",
       " 'Classifier': KNeighborsClassifier(n_neighbors=8),\n",
       " 'scaler__copy': True,\n",
       " 'scaler__with_mean': True,\n",
       " 'scaler__with_std': True,\n",
       " 'Classifier__algorithm': 'auto',\n",
       " 'Classifier__leaf_size': 30,\n",
       " 'Classifier__metric': 'minkowski',\n",
       " 'Classifier__metric_params': None,\n",
       " 'Classifier__n_jobs': None,\n",
       " 'Classifier__n_neighbors': 8,\n",
       " 'Classifier__p': 2,\n",
       " 'Classifier__weights': 'uniform'}"
      ]
     },
     "execution_count": 96,
     "metadata": {},
     "output_type": "execute_result"
    }
   ],
   "source": [
    "mdl=KNeighborsClassifier()\n",
    "\n",
    "pipe = Pipeline([('scaler', StandardScaler()),('Classifier',KNeighborsClassifier())])\n",
    "\n",
    "search_space = [{'Classifier': [KNeighborsClassifier()],\n",
    "                 'Classifier__n_neighbors':np.arange(1,10)}]\n",
    "\n",
    "\n",
    "clf = GridSearchCV(pipe, search_space, cv=StratifiedKFold(n_splits=5,shuffle=True,random_state=3), \n",
    "                verbose=0,scoring=\"accuracy\")\n",
    "\n",
    "mdl = clf.fit(X_train, y_train)\n",
    "\n",
    "mdl.best_estimator_.get_params()"
   ]
  },
  {
   "cell_type": "code",
   "execution_count": 97,
   "id": "3eaf0b7b",
   "metadata": {},
   "outputs": [],
   "source": [
    "scaler = StandardScaler()\n",
    "scaler.fit(X_train)\n",
    "X_trainStandard = scaler.transform(X_train)\n",
    "X_testStandard = scaler.transform(X_test)"
   ]
  },
  {
   "cell_type": "code",
   "execution_count": 98,
   "id": "d913d16b",
   "metadata": {},
   "outputs": [
    {
     "name": "stdout",
     "output_type": "stream",
     "text": [
      "Accuracy: 0.5945121951219512\n"
     ]
    }
   ],
   "source": [
    "knn = KNeighborsClassifier(n_neighbors=8)\n",
    "knn.fit(X_trainStandard,y_train)\n",
    "ypred=knn.predict(X_testStandard)\n",
    "print(\"Accuracy:\",accuracy_score(y_test, ypred))"
   ]
  },
  {
   "cell_type": "code",
   "execution_count": 99,
   "id": "447ef12f",
   "metadata": {},
   "outputs": [
    {
     "data": {
      "text/html": [
       "<div>\n",
       "<style scoped>\n",
       "    .dataframe tbody tr th:only-of-type {\n",
       "        vertical-align: middle;\n",
       "    }\n",
       "\n",
       "    .dataframe tbody tr th {\n",
       "        vertical-align: top;\n",
       "    }\n",
       "\n",
       "    .dataframe thead th {\n",
       "        text-align: right;\n",
       "    }\n",
       "</style>\n",
       "<table border=\"1\" class=\"dataframe\">\n",
       "  <thead>\n",
       "    <tr style=\"text-align: right;\">\n",
       "      <th></th>\n",
       "      <th>Accuracy</th>\n",
       "    </tr>\n",
       "  </thead>\n",
       "  <tbody>\n",
       "    <tr>\n",
       "      <th>DropNA-RFC</th>\n",
       "      <td>0.602134</td>\n",
       "    </tr>\n",
       "    <tr>\n",
       "      <th>DropNA-KNN</th>\n",
       "      <td>0.585366</td>\n",
       "    </tr>\n",
       "    <tr>\n",
       "      <th>DropNA-LR</th>\n",
       "      <td>0.609756</td>\n",
       "    </tr>\n",
       "    <tr>\n",
       "      <th>FillMean-RFC</th>\n",
       "      <td>0.672256</td>\n",
       "    </tr>\n",
       "    <tr>\n",
       "      <th>FillMean-KNN</th>\n",
       "      <td>0.638720</td>\n",
       "    </tr>\n",
       "    <tr>\n",
       "      <th>FillMean-LR</th>\n",
       "      <td>0.609756</td>\n",
       "    </tr>\n",
       "    <tr>\n",
       "      <th>FillMedian-RFC</th>\n",
       "      <td>0.664634</td>\n",
       "    </tr>\n",
       "    <tr>\n",
       "      <th>FillMedian-KNN</th>\n",
       "      <td>0.640244</td>\n",
       "    </tr>\n",
       "    <tr>\n",
       "      <th>FillMedian-LR</th>\n",
       "      <td>0.609756</td>\n",
       "    </tr>\n",
       "    <tr>\n",
       "      <th>FillNA(0)-RFC</th>\n",
       "      <td>0.670732</td>\n",
       "    </tr>\n",
       "    <tr>\n",
       "      <th>FillNA(0)-KNN</th>\n",
       "      <td>0.594512</td>\n",
       "    </tr>\n",
       "  </tbody>\n",
       "</table>\n",
       "</div>"
      ],
      "text/plain": [
       "                Accuracy\n",
       "DropNA-RFC      0.602134\n",
       "DropNA-KNN      0.585366\n",
       "DropNA-LR       0.609756\n",
       "FillMean-RFC    0.672256\n",
       "FillMean-KNN    0.638720\n",
       "FillMean-LR     0.609756\n",
       "FillMedian-RFC  0.664634\n",
       "FillMedian-KNN  0.640244\n",
       "FillMedian-LR   0.609756\n",
       "FillNA(0)-RFC   0.670732\n",
       "FillNA(0)-KNN   0.594512"
      ]
     },
     "execution_count": 99,
     "metadata": {},
     "output_type": "execute_result"
    }
   ],
   "source": [
    "results.loc[\"FillNA(0)-KNN\"] = [accuracy_score(y_test, ypred)]\n",
    "results"
   ]
  },
  {
   "cell_type": "markdown",
   "id": "2aeef255",
   "metadata": {},
   "source": [
    "## LogisticRegression ile Model Kurulması"
   ]
  },
  {
   "cell_type": "code",
   "execution_count": 133,
   "id": "b347d449",
   "metadata": {},
   "outputs": [],
   "source": [
    "X_train,X_test,y_train,y_test=train_test_split(X,y,test_size=0.2,random_state=42,stratify=y)"
   ]
  },
  {
   "cell_type": "code",
   "execution_count": 100,
   "id": "6e6827ca",
   "metadata": {},
   "outputs": [
    {
     "data": {
      "text/plain": [
       "{'memory': None,\n",
       " 'steps': [('scaler', StandardScaler()),\n",
       "  ('Classifier',\n",
       "   LogisticRegression(C=0.0001, penalty='l1', solver='liblinear'))],\n",
       " 'verbose': False,\n",
       " 'scaler': StandardScaler(),\n",
       " 'Classifier': LogisticRegression(C=0.0001, penalty='l1', solver='liblinear'),\n",
       " 'scaler__copy': True,\n",
       " 'scaler__with_mean': True,\n",
       " 'scaler__with_std': True,\n",
       " 'Classifier__C': 0.0001,\n",
       " 'Classifier__class_weight': None,\n",
       " 'Classifier__dual': False,\n",
       " 'Classifier__fit_intercept': True,\n",
       " 'Classifier__intercept_scaling': 1,\n",
       " 'Classifier__l1_ratio': None,\n",
       " 'Classifier__max_iter': 100,\n",
       " 'Classifier__multi_class': 'auto',\n",
       " 'Classifier__n_jobs': None,\n",
       " 'Classifier__penalty': 'l1',\n",
       " 'Classifier__random_state': None,\n",
       " 'Classifier__solver': 'liblinear',\n",
       " 'Classifier__tol': 0.0001,\n",
       " 'Classifier__verbose': 0,\n",
       " 'Classifier__warm_start': False}"
      ]
     },
     "execution_count": 100,
     "metadata": {},
     "output_type": "execute_result"
    }
   ],
   "source": [
    "mdl=LogisticRegression()\n",
    "\n",
    "pipe = Pipeline([('scaler', StandardScaler()),('Classifier',LogisticRegression())])\n",
    "\n",
    "search_space = [{'Classifier': [LogisticRegression(solver='liblinear')],\n",
    "                 'Classifier__C': np.logspace(-4, 4, 100),\n",
    "                 'Classifier__penalty':['l1','l2']}]\n",
    "\n",
    " \n",
    "clf = GridSearchCV(pipe, search_space, cv=StratifiedKFold(n_splits=5,shuffle=True,random_state=3), \n",
    "                verbose=0,scoring=\"accuracy\")\n",
    "\n",
    "mdl = clf.fit(X_train, y_train)\n",
    "\n",
    "mdl.best_estimator_.get_params()"
   ]
  },
  {
   "cell_type": "code",
   "execution_count": 101,
   "id": "0d0a23d4",
   "metadata": {},
   "outputs": [],
   "source": [
    "scaler = StandardScaler()\n",
    "scaler.fit(X_train)\n",
    "X_trainStandard = scaler.transform(X_train)\n",
    "X_testStandard = scaler.transform(X_test)"
   ]
  },
  {
   "cell_type": "code",
   "execution_count": 102,
   "id": "3d34cd71",
   "metadata": {},
   "outputs": [
    {
     "name": "stdout",
     "output_type": "stream",
     "text": [
      "Accuracy: 0.6097560975609756\n"
     ]
    }
   ],
   "source": [
    "mdl=LogisticRegression(solver=\"liblinear\",max_iter=1000,C=0.0001,penalty=\"l1\")\n",
    "mdl.fit(X_trainStandard,y_train)\n",
    "ypred=mdl.predict(X_testStandard)\n",
    "print(\"Accuracy:\",accuracy_score(y_test, ypred))"
   ]
  },
  {
   "cell_type": "code",
   "execution_count": 103,
   "id": "19c49351",
   "metadata": {},
   "outputs": [
    {
     "data": {
      "text/html": [
       "<div>\n",
       "<style scoped>\n",
       "    .dataframe tbody tr th:only-of-type {\n",
       "        vertical-align: middle;\n",
       "    }\n",
       "\n",
       "    .dataframe tbody tr th {\n",
       "        vertical-align: top;\n",
       "    }\n",
       "\n",
       "    .dataframe thead th {\n",
       "        text-align: right;\n",
       "    }\n",
       "</style>\n",
       "<table border=\"1\" class=\"dataframe\">\n",
       "  <thead>\n",
       "    <tr style=\"text-align: right;\">\n",
       "      <th></th>\n",
       "      <th>Accuracy</th>\n",
       "    </tr>\n",
       "  </thead>\n",
       "  <tbody>\n",
       "    <tr>\n",
       "      <th>DropNA-RFC</th>\n",
       "      <td>0.602134</td>\n",
       "    </tr>\n",
       "    <tr>\n",
       "      <th>DropNA-KNN</th>\n",
       "      <td>0.585366</td>\n",
       "    </tr>\n",
       "    <tr>\n",
       "      <th>DropNA-LR</th>\n",
       "      <td>0.609756</td>\n",
       "    </tr>\n",
       "    <tr>\n",
       "      <th>FillMean-RFC</th>\n",
       "      <td>0.672256</td>\n",
       "    </tr>\n",
       "    <tr>\n",
       "      <th>FillMean-KNN</th>\n",
       "      <td>0.638720</td>\n",
       "    </tr>\n",
       "    <tr>\n",
       "      <th>FillMean-LR</th>\n",
       "      <td>0.609756</td>\n",
       "    </tr>\n",
       "    <tr>\n",
       "      <th>FillMedian-RFC</th>\n",
       "      <td>0.664634</td>\n",
       "    </tr>\n",
       "    <tr>\n",
       "      <th>FillMedian-KNN</th>\n",
       "      <td>0.640244</td>\n",
       "    </tr>\n",
       "    <tr>\n",
       "      <th>FillMedian-LR</th>\n",
       "      <td>0.609756</td>\n",
       "    </tr>\n",
       "    <tr>\n",
       "      <th>FillNA(0)-RFC</th>\n",
       "      <td>0.670732</td>\n",
       "    </tr>\n",
       "    <tr>\n",
       "      <th>FillNA(0)-KNN</th>\n",
       "      <td>0.594512</td>\n",
       "    </tr>\n",
       "    <tr>\n",
       "      <th>FillNA(0)-LR</th>\n",
       "      <td>0.609756</td>\n",
       "    </tr>\n",
       "  </tbody>\n",
       "</table>\n",
       "</div>"
      ],
      "text/plain": [
       "                Accuracy\n",
       "DropNA-RFC      0.602134\n",
       "DropNA-KNN      0.585366\n",
       "DropNA-LR       0.609756\n",
       "FillMean-RFC    0.672256\n",
       "FillMean-KNN    0.638720\n",
       "FillMean-LR     0.609756\n",
       "FillMedian-RFC  0.664634\n",
       "FillMedian-KNN  0.640244\n",
       "FillMedian-LR   0.609756\n",
       "FillNA(0)-RFC   0.670732\n",
       "FillNA(0)-KNN   0.594512\n",
       "FillNA(0)-LR    0.609756"
      ]
     },
     "execution_count": 103,
     "metadata": {},
     "output_type": "execute_result"
    }
   ],
   "source": [
    "results.loc[\"FillNA(0)-LR\"] = [accuracy_score(y_test, ypred)]\n",
    "results"
   ]
  },
  {
   "cell_type": "markdown",
   "id": "43b439e8",
   "metadata": {},
   "source": [
    "## fillna(0) Summary\n",
    "\n",
    "Eksik verilerin 0 ile doldurulması durumunda uyguladığımız 3 modelden en iyi sonucu Rndom Forest Classifier ile elde ettik"
   ]
  },
  {
   "cell_type": "code",
   "execution_count": 39,
   "id": "ba06a0e5",
   "metadata": {},
   "outputs": [],
   "source": [
    "df=pd.read_csv(\"water_potability.csv\")"
   ]
  },
  {
   "cell_type": "code",
   "execution_count": 40,
   "id": "3448851f",
   "metadata": {},
   "outputs": [],
   "source": [
    "df[\"ph\"]=df.ph.fillna(df.ph.mean())\n",
    "df[\"Sulfate\"]=df.Sulfate.fillna(df.Sulfate.mean())\n",
    "df[\"Trihalomethanes\"]=df.Trihalomethanes.fillna(df.Trihalomethanes.mean())"
   ]
  },
  {
   "cell_type": "code",
   "execution_count": 41,
   "id": "2c5b2b67",
   "metadata": {},
   "outputs": [],
   "source": [
    "X=df.drop(\"Potability\",axis=1)\n",
    "y=df.Potability"
   ]
  },
  {
   "cell_type": "code",
   "execution_count": 42,
   "id": "df1c45de",
   "metadata": {},
   "outputs": [
    {
     "name": "stdout",
     "output_type": "stream",
     "text": [
      "Requirement already satisfied: imblearn in c:\\users\\ezgie\\anaconda3\\lib\\site-packages (0.0)\n",
      "Requirement already satisfied: imbalanced-learn in c:\\users\\ezgie\\anaconda3\\lib\\site-packages (from imblearn) (0.9.1)\n",
      "Requirement already satisfied: scikit-learn>=1.1.0 in c:\\users\\ezgie\\anaconda3\\lib\\site-packages (from imbalanced-learn->imblearn) (1.1.1)\n",
      "Requirement already satisfied: threadpoolctl>=2.0.0 in c:\\users\\ezgie\\anaconda3\\lib\\site-packages (from imbalanced-learn->imblearn) (2.2.0)\n",
      "Requirement already satisfied: scipy>=1.3.2 in c:\\users\\ezgie\\anaconda3\\lib\\site-packages (from imbalanced-learn->imblearn) (1.7.3)\n",
      "Requirement already satisfied: joblib>=1.0.0 in c:\\users\\ezgie\\anaconda3\\lib\\site-packages (from imbalanced-learn->imblearn) (1.1.0)\n",
      "Requirement already satisfied: numpy>=1.17.3 in c:\\users\\ezgie\\anaconda3\\lib\\site-packages (from imbalanced-learn->imblearn) (1.21.5)\n",
      "Note: you may need to restart the kernel to use updated packages.\n"
     ]
    }
   ],
   "source": [
    "pip install imblearn"
   ]
  },
  {
   "cell_type": "code",
   "execution_count": 43,
   "id": "88aaeed3",
   "metadata": {},
   "outputs": [
    {
     "data": {
      "text/plain": [
       "0    1998\n",
       "1    1998\n",
       "Name: Potability, dtype: int64"
      ]
     },
     "execution_count": 43,
     "metadata": {},
     "output_type": "execute_result"
    }
   ],
   "source": [
    "from imblearn.over_sampling import SMOTE\n",
    "smote = SMOTE(sampling_strategy='minority')\n",
    "X_sm, y_sm = smote.fit_resample(X, y)\n",
    "\n",
    "y_sm.value_counts()"
   ]
  },
  {
   "cell_type": "code",
   "execution_count": 45,
   "id": "115e8b5f",
   "metadata": {},
   "outputs": [
    {
     "data": {
      "text/plain": [
       "{'memory': None,\n",
       " 'steps': [('scaler', StandardScaler()),\n",
       "  ('Classifier',\n",
       "   RandomForestClassifier(max_features=5, n_estimators=300, random_state=42))],\n",
       " 'verbose': False,\n",
       " 'scaler': StandardScaler(),\n",
       " 'Classifier': RandomForestClassifier(max_features=5, n_estimators=300, random_state=42),\n",
       " 'scaler__copy': True,\n",
       " 'scaler__with_mean': True,\n",
       " 'scaler__with_std': True,\n",
       " 'Classifier__bootstrap': True,\n",
       " 'Classifier__ccp_alpha': 0.0,\n",
       " 'Classifier__class_weight': None,\n",
       " 'Classifier__criterion': 'gini',\n",
       " 'Classifier__max_depth': None,\n",
       " 'Classifier__max_features': 5,\n",
       " 'Classifier__max_leaf_nodes': None,\n",
       " 'Classifier__max_samples': None,\n",
       " 'Classifier__min_impurity_decrease': 0.0,\n",
       " 'Classifier__min_samples_leaf': 1,\n",
       " 'Classifier__min_samples_split': 2,\n",
       " 'Classifier__min_weight_fraction_leaf': 0.0,\n",
       " 'Classifier__n_estimators': 300,\n",
       " 'Classifier__n_jobs': None,\n",
       " 'Classifier__oob_score': False,\n",
       " 'Classifier__random_state': 42,\n",
       " 'Classifier__verbose': 0,\n",
       " 'Classifier__warm_start': False}"
      ]
     },
     "execution_count": 45,
     "metadata": {},
     "output_type": "execute_result"
    }
   ],
   "source": [
    "mdl=RandomForestClassifier()\n",
    "\n",
    "pipe = Pipeline([('scaler', StandardScaler()),('Classifier',RandomForestClassifier())])\n",
    "\n",
    "search_space = [{'Classifier': [RandomForestClassifier(random_state=42)],\n",
    "                 'Classifier__n_estimators': [100,200,300,400],\n",
    "                 'Classifier__max_features': np.arange(1,10)}]\n",
    "\n",
    "\n",
    "clf = GridSearchCV(pipe, search_space, cv=StratifiedKFold(n_splits=5,shuffle=True,random_state=3), \n",
    "                verbose=0,scoring=\"accuracy\")\n",
    "\n",
    "mdl_smote = clf.fit(X_sm, y_sm)\n",
    "\n",
    "mdl_smote.best_estimator_.get_params()"
   ]
  },
  {
   "cell_type": "code",
   "execution_count": 63,
   "id": "9d187f4e",
   "metadata": {},
   "outputs": [],
   "source": [
    "X_train_smote,X_test_smote,y_train_smote,y_test_smote=train_test_split(X_sm,y_sm, test_size=0.2, random_state=42)"
   ]
  },
  {
   "cell_type": "code",
   "execution_count": 65,
   "id": "1c1db191",
   "metadata": {},
   "outputs": [],
   "source": [
    "mdl_smote= RandomForestClassifier(max_features=5, n_estimators=300, random_state=42,oob_score=True)\n",
    "mdl_smote.fit(X_train_smote,y_train_smote)\n",
    "ypred_smote=mdl_smote.predict(X_test_smote)"
   ]
  },
  {
   "cell_type": "code",
   "execution_count": 67,
   "id": "d5429fbb",
   "metadata": {},
   "outputs": [
    {
     "name": "stdout",
     "output_type": "stream",
     "text": [
      "Accuracy: 0.7325\n"
     ]
    }
   ],
   "source": [
    "print(\"Accuracy:\",accuracy_score(y_test_smote, ypred_smote))"
   ]
  },
  {
   "cell_type": "code",
   "execution_count": 68,
   "id": "68457759",
   "metadata": {
    "scrolled": true
   },
   "outputs": [
    {
     "data": {
      "text/plain": [
       "Text(0.5, 14.722222222222216, 'Predicted')"
      ]
     },
     "execution_count": 68,
     "metadata": {},
     "output_type": "execute_result"
    },
    {
     "data": {
      "image/png": "[encoded data removed]",
      "text/plain": [
       "<Figure size 700x400 with 2 Axes>"
      ]
     },
     "metadata": {},
     "output_type": "display_data"
    }
   ],
   "source": [
    "cm = confusion_matrix(y_test_smote,ypred_smote)\n",
    "plt.figure(figsize = (7,4))\n",
    "sns.heatmap(cm, annot=True, fmt=\".1f\")\n",
    "plt.xlabel('Predicted')"
   ]
  },
  {
   "cell_type": "code",
   "execution_count": 61,
   "id": "cdd59ced",
   "metadata": {},
   "outputs": [
    {
     "name": "stdout",
     "output_type": "stream",
     "text": [
      "              precision    recall  f1-score   support\n",
      "\n",
      "           0       0.73      0.72      0.73       394\n",
      "           1       0.73      0.74      0.74       406\n",
      "\n",
      "    accuracy                           0.73       800\n",
      "   macro avg       0.73      0.73      0.73       800\n",
      "weighted avg       0.73      0.73      0.73       800\n",
      "\n"
     ]
    }
   ],
   "source": [
    "print(classification_report(y_test_smote,ypred_smote))"
   ]
  },
  {
   "cell_type": "code",
   "execution_count": 62,
   "id": "81658449",
   "metadata": {},
   "outputs": [
    {
     "data": {
      "text/html": [
       "<style>#sk-container-id-1 {color: black;background-color: white;}#sk-container-id-1 pre{padding: 0;}#sk-container-id-1 div.sk-toggleable {background-color: white;}#sk-container-id-1 label.sk-toggleable__label {cursor: pointer;display: block;width: 100%;margin-bottom: 0;padding: 0.3em;box-sizing: border-box;text-align: center;}#sk-container-id-1 label.sk-toggleable__label-arrow:before {content: \"▸\";float: left;margin-right: 0.25em;color: #696969;}#sk-container-id-1 label.sk-toggleable__label-arrow:hover:before {color: black;}#sk-container-id-1 div.sk-estimator:hover label.sk-toggleable__label-arrow:before {color: black;}#sk-container-id-1 div.sk-toggleable__content {max-height: 0;max-width: 0;overflow: hidden;text-align: left;background-color: #f0f8ff;}#sk-container-id-1 div.sk-toggleable__content pre {margin: 0.2em;color: black;border-radius: 0.25em;background-color: #f0f8ff;}#sk-container-id-1 input.sk-toggleable__control:checked~div.sk-toggleable__content {max-height: 200px;max-width: 100%;overflow: auto;}#sk-container-id-1 input.sk-toggleable__control:checked~label.sk-toggleable__label-arrow:before {content: \"▾\";}#sk-container-id-1 div.sk-estimator input.sk-toggleable__control:checked~label.sk-toggleable__label {background-color: #d4ebff;}#sk-container-id-1 div.sk-label input.sk-toggleable__control:checked~label.sk-toggleable__label {background-color: #d4ebff;}#sk-container-id-1 input.sk-hidden--visually {border: 0;clip: rect(1px 1px 1px 1px);clip: rect(1px, 1px, 1px, 1px);height: 1px;margin: -1px;overflow: hidden;padding: 0;position: absolute;width: 1px;}#sk-container-id-1 div.sk-estimator {font-family: monospace;background-color: #f0f8ff;border: 1px dotted black;border-radius: 0.25em;box-sizing: border-box;margin-bottom: 0.5em;}#sk-container-id-1 div.sk-estimator:hover {background-color: #d4ebff;}#sk-container-id-1 div.sk-parallel-item::after {content: \"\";width: 100%;border-bottom: 1px solid gray;flex-grow: 1;}#sk-container-id-1 div.sk-label:hover label.sk-toggleable__label {background-color: #d4ebff;}#sk-container-id-1 div.sk-serial::before {content: \"\";position: absolute;border-left: 1px solid gray;box-sizing: border-box;top: 0;bottom: 0;left: 50%;z-index: 0;}#sk-container-id-1 div.sk-serial {display: flex;flex-direction: column;align-items: center;background-color: white;padding-right: 0.2em;padding-left: 0.2em;position: relative;}#sk-container-id-1 div.sk-item {position: relative;z-index: 1;}#sk-container-id-1 div.sk-parallel {display: flex;align-items: stretch;justify-content: center;background-color: white;position: relative;}#sk-container-id-1 div.sk-item::before, #sk-container-id-1 div.sk-parallel-item::before {content: \"\";position: absolute;border-left: 1px solid gray;box-sizing: border-box;top: 0;bottom: 0;left: 50%;z-index: -1;}#sk-container-id-1 div.sk-parallel-item {display: flex;flex-direction: column;z-index: 1;position: relative;background-color: white;}#sk-container-id-1 div.sk-parallel-item:first-child::after {align-self: flex-end;width: 50%;}#sk-container-id-1 div.sk-parallel-item:last-child::after {align-self: flex-start;width: 50%;}#sk-container-id-1 div.sk-parallel-item:only-child::after {width: 0;}#sk-container-id-1 div.sk-dashed-wrapped {border: 1px dashed gray;margin: 0 0.4em 0.5em 0.4em;box-sizing: border-box;padding-bottom: 0.4em;background-color: white;}#sk-container-id-1 div.sk-label label {font-family: monospace;font-weight: bold;display: inline-block;line-height: 1.2em;}#sk-container-id-1 div.sk-label-container {text-align: center;}#sk-container-id-1 div.sk-container {/* jupyter's `normalize.less` sets `[hidden] { display: none; }` but bootstrap.min.css set `[hidden] { display: none !important; }` so we also need the `!important` here to be able to override the default hidden behavior on the sphinx rendered scikit-learn.org. See: https://github.com/scikit-learn/scikit-learn/issues/21755 */display: inline-block !important;position: relative;}#sk-container-id-1 div.sk-text-repr-fallback {display: none;}</style><div id=\"sk-container-id-1\" class=\"sk-top-container\"><div class=\"sk-text-repr-fallback\"><pre>RandomForestClassifier(max_features=5, n_estimators=300, oob_score=True,\n",
       "                       random_state=42)</pre><b>In a Jupyter environment, please rerun this cell to show the HTML representation or trust the notebook. <br />On GitHub, the HTML representation is unable to render, please try loading this page with nbviewer.org.</b></div><div class=\"sk-container\" hidden><div class=\"sk-item\"><div class=\"sk-estimator sk-toggleable\"><input class=\"sk-toggleable__control sk-hidden--visually\" id=\"sk-estimator-id-1\" type=\"checkbox\" checked><label for=\"sk-estimator-id-1\" class=\"sk-toggleable__label sk-toggleable__label-arrow\">RandomForestClassifier</label><div class=\"sk-toggleable__content\"><pre>RandomForestClassifier(max_features=5, n_estimators=300, oob_score=True,\n",
       "                       random_state=42)</pre></div></div></div></div></div>"
      ],
      "text/plain": [
       "RandomForestClassifier(max_features=5, n_estimators=300, oob_score=True,\n",
       "                       random_state=42)"
      ]
     },
     "execution_count": 62,
     "metadata": {},
     "output_type": "execute_result"
    }
   ],
   "source": [
    "mdl= RandomForestClassifier(max_features=5, n_estimators=300, random_state=42,oob_score=True)\n",
    "mdl.fit(X,y)"
   ]
  },
  {
   "cell_type": "markdown",
   "id": "9a546866",
   "metadata": {},
   "source": [
    "## GENERAL SUMMARY\n",
    "\n",
    "Data hazırlamak için 4 ayrı yaklaşım yapıldı.\n",
    "\n",
    "1- Eksik verilerin bulunduğu featureların fdatadan çıkarılması\n",
    "2- Eksik verilerin yerine mean değerlerin konulması\n",
    "3- Eksik verilerin yerine median değerlerin konulması\n",
    "4- Eksik verilerin yerine 0 konulması\n",
    "\n",
    "-Her 4 durum için 3 ayrı model fit edildi. (Logistic Regression, Random Forest Classifier, KNeighbors Classifier)\n",
    "-En iyi sonuçların elde edildiği durum eksik verilerin yerine mean değerlerin konulması oldu.(train ve test e böldüğümüz datada f_regression değerleri ile featureların data üzerindeki önemleri sıralandı, eksik veri bulunan featureların datadan çıkarılması accuracy score unu düşürdüğü görüldü)\n",
    "-Mean değerlerle çalışılarak en iyi sonucu veren model Random Forest Classifier oldu. imlearn kütüphanesini indirip 0=1998 1=1298 olan target değerlerini her birini 1998 olarak eşitlemeyi düşündük ve skor değerini 0.6722 den 0.7325 e çıkardık.\n",
    "\n"
   ]
  },
  {
   "cell_type": "code",
   "execution_count": null,
   "id": "c708f1d2",
   "metadata": {},
   "outputs": [],
   "source": []
  }
 ],
 "metadata": {
  "kernelspec": {
   "display_name": "Python 3 (ipykernel)",
   "language": "python",
   "name": "python3"
  },
  "language_info": {
   "codemirror_mode": {
    "name": "ipython",
    "version": 3
   },
   "file_extension": ".py",
   "mimetype": "text/x-python",
   "name": "python",
   "nbconvert_exporter": "python",
   "pygments_lexer": "ipython3",
   "version": "3.9.12"
  }
 },
 "nbformat": 4,
 "nbformat_minor": 5
}
